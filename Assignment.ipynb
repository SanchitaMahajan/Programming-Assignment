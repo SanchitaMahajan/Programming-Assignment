{
  "nbformat": 4,
  "nbformat_minor": 0,
  "metadata": {
    "colab": {
      "name": "Assignment.ipynb",
      "provenance": [],
      "authorship_tag": "ABX9TyNjYRtNPd941Xr+CXmNXUP3",
      "include_colab_link": true
    },
    "kernelspec": {
      "name": "python3",
      "display_name": "Python 3"
    },
    "language_info": {
      "name": "python"
    }
  },
  "cells": [
    {
      "cell_type": "markdown",
      "metadata": {
        "id": "view-in-github",
        "colab_type": "text"
      },
      "source": [
        "<a href=\"https://colab.research.google.com/github/SanchitaMahajan/Programming-Assignment/blob/main/Assignment.ipynb\" target=\"_parent\"><img src=\"https://colab.research.google.com/assets/colab-badge.svg\" alt=\"Open In Colab\"/></a>"
      ]
    },
    {
      "cell_type": "code",
      "metadata": {
        "colab": {
          "base_uri": "https://localhost:8080/"
        },
        "id": "3Jg86BGMHnKD",
        "outputId": "ac5de398-a3c4-4edf-d8e1-31da00bac154"
      },
      "source": [
        "# install requirements\n",
        "!pip install kora -q\n",
        "\n",
        "#load packages\n",
        "from bs4 import BeautifulSoup\n",
        "from kora.selenium import wd"
      ],
      "execution_count": null,
      "outputs": [
        {
          "output_type": "stream",
          "name": "stdout",
          "text": [
            "\u001b[?25l\r\u001b[K     |█████▊                          | 10 kB 23.9 MB/s eta 0:00:01\r\u001b[K     |███████████▍                    | 20 kB 29.5 MB/s eta 0:00:01\r\u001b[K     |█████████████████               | 30 kB 13.5 MB/s eta 0:00:01\r\u001b[K     |██████████████████████▊         | 40 kB 9.7 MB/s eta 0:00:01\r\u001b[K     |████████████████████████████▍   | 51 kB 5.5 MB/s eta 0:00:01\r\u001b[K     |████████████████████████████████| 57 kB 2.9 MB/s \n",
            "\u001b[?25h\u001b[?25l\r\u001b[K     |█████▉                          | 10 kB 20.2 MB/s eta 0:00:01\r\u001b[K     |███████████▊                    | 20 kB 29.5 MB/s eta 0:00:01\r\u001b[K     |█████████████████▌              | 30 kB 34.7 MB/s eta 0:00:01\r\u001b[K     |███████████████████████▍        | 40 kB 37.2 MB/s eta 0:00:01\r\u001b[K     |█████████████████████████████▎  | 51 kB 40.4 MB/s eta 0:00:01\r\u001b[K     |████████████████████████████████| 56 kB 4.2 MB/s \n",
            "\u001b[?25h"
          ]
        }
      ]
    },
    {
      "cell_type": "code",
      "metadata": {
        "id": "89smdsH3H_5K"
      },
      "source": [
        "# setup the URL\n",
        "URL = 'https://au.finance.yahoo.com/quote/NAB.AX/profile?p=NAB.AX'\n",
        "\n",
        "# Get the page\n",
        "wd.get(URL)"
      ],
      "execution_count": null,
      "outputs": []
    },
    {
      "cell_type": "code",
      "metadata": {
        "colab": {
          "base_uri": "https://localhost:8080/"
        },
        "id": "y2o6koHIIVyX",
        "outputId": "55f66b0c-efd9-4762-8f08-d546a3af0b82"
      },
      "source": [
        "soup = BeautifulSoup(wd.page_source, \"html.parser\")\n",
        "\n",
        "tables = soup.find_all('table')\n",
        "len(tables)"
      ],
      "execution_count": null,
      "outputs": [
        {
          "output_type": "execute_result",
          "data": {
            "text/plain": [
              "1"
            ]
          },
          "metadata": {},
          "execution_count": 3
        }
      ]
    },
    {
      "cell_type": "code",
      "metadata": {
        "id": "UiObxoHAIcHU"
      },
      "source": [
        "tbody = tables[0].find('tbody')"
      ],
      "execution_count": null,
      "outputs": []
    },
    {
      "cell_type": "code",
      "metadata": {
        "id": "2vK_4CHqIfVs"
      },
      "source": [
        "rows = tbody.find_all('tr')"
      ],
      "execution_count": null,
      "outputs": []
    },
    {
      "cell_type": "code",
      "metadata": {
        "id": "mVK4q4LhIibP"
      },
      "source": [
        "columns = rows[0].find_all('td')"
      ],
      "execution_count": null,
      "outputs": []
    },
    {
      "cell_type": "code",
      "metadata": {
        "colab": {
          "base_uri": "https://localhost:8080/",
          "height": 35
        },
        "id": "Acb0O0D_IlA2",
        "outputId": "091281c8-11ec-4df7-f6c4-163b00a0d94c"
      },
      "source": [
        "columns[0].text"
      ],
      "execution_count": null,
      "outputs": [
        {
          "output_type": "execute_result",
          "data": {
            "application/vnd.google.colaboratory.intrinsic+json": {
              "type": "string"
            },
            "text/plain": [
              "'Mr. Ross Maxwell McEwan CBE, B.B.S.'"
            ]
          },
          "metadata": {},
          "execution_count": 7
        }
      ]
    },
    {
      "cell_type": "code",
      "metadata": {
        "colab": {
          "base_uri": "https://localhost:8080/"
        },
        "id": "QuLfzsjFIoSe",
        "outputId": "bf89b139-cebc-49c3-e16c-b1389b40f4aa"
      },
      "source": [
        "tables = soup.find_all('table')\n",
        "for table in tables:\n",
        "  body = table.find('tbody')\n",
        "  rows = body.find_all(\"tr\")\n",
        "  for row in rows:\n",
        "    data = row.find_all('td')\n",
        "    for txt in data:\n",
        "      print(txt.text)\n",
        "    print()"
      ],
      "execution_count": null,
      "outputs": [
        {
          "output_type": "stream",
          "name": "stdout",
          "text": [
            "Mr. Ross Maxwell McEwan CBE, B.B.S.\n",
            "Group CEO, MD & Director\n",
            "2.54M\n",
            "N/A\n",
            "1957\n",
            "\n",
            "Mr. Gary Andrew Lennon BEC, F.C.A., BEc (Hons), FCA\n",
            "Group Chief Financial Officer\n",
            "1.13M\n",
            "N/A\n",
            "N/A\n",
            "\n",
            "Mr. Patrick F. Wright\n",
            "Group Exec. of Technology & Enterprise Operations\n",
            "1.72M\n",
            "N/A\n",
            "1967\n",
            "\n",
            "Ms. Sharon J. Cook\n",
            "Group Exec. of Legal & Commercial Services\n",
            "912.98k\n",
            "N/A\n",
            "N/A\n",
            "\n",
            "Ms. Susan  Ferrier\n",
            "Group Exec. of People & Culture\n",
            "929.27k\n",
            "N/A\n",
            "N/A\n",
            "\n",
            "Ms. Angela  Mentis B.Bus\n",
            "Group Chief Digital, Data & Analytics Officer\n",
            "1.62M\n",
            "N/A\n",
            "N/A\n",
            "\n",
            "Mr. Shaun  Dooley\n",
            "Chief Risk Officer\n",
            "1.05M\n",
            "N/A\n",
            "N/A\n",
            "\n",
            "Mr. Andrew  Irvine\n",
            "Chief Exec. of Bus. Private Banking Division\n",
            "333.27k\n",
            "N/A\n",
            "N/A\n",
            "\n",
            "Mr. Lesile D. Matheson\n",
            "Group Chief Operating Officer\n",
            "N/A\n",
            "N/A\n",
            "1960\n",
            "\n",
            "Ms. Sally  Mihell\n",
            "Head of Investor Relations\n",
            "N/A\n",
            "N/A\n",
            "N/A\n",
            "\n"
          ]
        }
      ]
    },
    {
      "cell_type": "code",
      "metadata": {
        "colab": {
          "base_uri": "https://localhost:8080/"
        },
        "id": "J3IPUIPuIvyA",
        "outputId": "7e1febc1-b56b-4841-9163-88a3ca238349"
      },
      "source": [
        "tables = soup.find_all('table')\n",
        "#for table in tables:\n",
        "body = tables[0].find('tbody')\n",
        "rows = body.find_all(\"tr\")\n",
        "for row in rows:\n",
        "  data = row.find_all('td')\n",
        "  for txt in data:\n",
        "    print(txt.text)\n",
        "  print()"
      ],
      "execution_count": null,
      "outputs": [
        {
          "output_type": "stream",
          "name": "stdout",
          "text": [
            "Mr. Ross Maxwell McEwan CBE, B.B.S.\n",
            "Group CEO, MD & Director\n",
            "2.54M\n",
            "N/A\n",
            "1957\n",
            "\n",
            "Mr. Gary Andrew Lennon BEC, F.C.A., BEc (Hons), FCA\n",
            "Group Chief Financial Officer\n",
            "1.13M\n",
            "N/A\n",
            "N/A\n",
            "\n",
            "Mr. Patrick F. Wright\n",
            "Group Exec. of Technology & Enterprise Operations\n",
            "1.72M\n",
            "N/A\n",
            "1967\n",
            "\n",
            "Ms. Sharon J. Cook\n",
            "Group Exec. of Legal & Commercial Services\n",
            "912.98k\n",
            "N/A\n",
            "N/A\n",
            "\n",
            "Ms. Susan  Ferrier\n",
            "Group Exec. of People & Culture\n",
            "929.27k\n",
            "N/A\n",
            "N/A\n",
            "\n",
            "Ms. Angela  Mentis B.Bus\n",
            "Group Chief Digital, Data & Analytics Officer\n",
            "1.62M\n",
            "N/A\n",
            "N/A\n",
            "\n",
            "Mr. Shaun  Dooley\n",
            "Chief Risk Officer\n",
            "1.05M\n",
            "N/A\n",
            "N/A\n",
            "\n",
            "Mr. Andrew  Irvine\n",
            "Chief Exec. of Bus. Private Banking Division\n",
            "333.27k\n",
            "N/A\n",
            "N/A\n",
            "\n",
            "Mr. Lesile D. Matheson\n",
            "Group Chief Operating Officer\n",
            "N/A\n",
            "N/A\n",
            "1960\n",
            "\n",
            "Ms. Sally  Mihell\n",
            "Head of Investor Relations\n",
            "N/A\n",
            "N/A\n",
            "N/A\n",
            "\n"
          ]
        }
      ]
    },
    {
      "cell_type": "code",
      "metadata": {
        "colab": {
          "base_uri": "https://localhost:8080/"
        },
        "id": "zHDsuXPVIzfn",
        "outputId": "b47b0c46-896f-4964-9073-9eac597d577e"
      },
      "source": [
        "# install requirements\n",
        "!pip install kora -q\n",
        "\n",
        "#load packages\n",
        "from kora.selenium import wd\n",
        "import pandas as pd\n",
        "\n",
        "# setup the URL\n",
        "URL = 'https://au.finance.yahoo.com/quote/NAB.AX/profile?p=NAB.AX'\n",
        "\n",
        "# Get the page\n",
        "wd.get(URL)\n",
        "\n",
        "tables_as_df = pd.read_html(wd.page_source)\n",
        "len(tables_as_df)"
      ],
      "execution_count": null,
      "outputs": [
        {
          "output_type": "execute_result",
          "data": {
            "text/plain": [
              "1"
            ]
          },
          "metadata": {},
          "execution_count": 10
        }
      ]
    },
    {
      "cell_type": "code",
      "metadata": {
        "colab": {
          "base_uri": "https://localhost:8080/",
          "height": 359
        },
        "id": "Y0V5DE-5I-wo",
        "outputId": "6f2f2884-2a2c-4c5f-c147-133cdf3adcba"
      },
      "source": [
        "tables_as_df[0]"
      ],
      "execution_count": null,
      "outputs": [
        {
          "output_type": "execute_result",
          "data": {
            "text/html": [
              "<div>\n",
              "<style scoped>\n",
              "    .dataframe tbody tr th:only-of-type {\n",
              "        vertical-align: middle;\n",
              "    }\n",
              "\n",
              "    .dataframe tbody tr th {\n",
              "        vertical-align: top;\n",
              "    }\n",
              "\n",
              "    .dataframe thead th {\n",
              "        text-align: right;\n",
              "    }\n",
              "</style>\n",
              "<table border=\"1\" class=\"dataframe\">\n",
              "  <thead>\n",
              "    <tr style=\"text-align: right;\">\n",
              "      <th></th>\n",
              "      <th>Name</th>\n",
              "      <th>Title</th>\n",
              "      <th>Pay</th>\n",
              "      <th>Exercised</th>\n",
              "      <th>Year born</th>\n",
              "    </tr>\n",
              "  </thead>\n",
              "  <tbody>\n",
              "    <tr>\n",
              "      <th>0</th>\n",
              "      <td>Mr. Ross Maxwell McEwan CBE, B.B.S.</td>\n",
              "      <td>Group CEO, MD &amp; Director</td>\n",
              "      <td>2.54M</td>\n",
              "      <td>NaN</td>\n",
              "      <td>1957.0</td>\n",
              "    </tr>\n",
              "    <tr>\n",
              "      <th>1</th>\n",
              "      <td>Mr. Gary Andrew Lennon BEC, F.C.A., BEc (Hons)...</td>\n",
              "      <td>Group Chief Financial Officer</td>\n",
              "      <td>1.13M</td>\n",
              "      <td>NaN</td>\n",
              "      <td>NaN</td>\n",
              "    </tr>\n",
              "    <tr>\n",
              "      <th>2</th>\n",
              "      <td>Mr. Patrick F. Wright</td>\n",
              "      <td>Group Exec. of Technology &amp; Enterprise Operations</td>\n",
              "      <td>1.72M</td>\n",
              "      <td>NaN</td>\n",
              "      <td>1967.0</td>\n",
              "    </tr>\n",
              "    <tr>\n",
              "      <th>3</th>\n",
              "      <td>Ms. Sharon J. Cook</td>\n",
              "      <td>Group Exec. of Legal &amp; Commercial Services</td>\n",
              "      <td>912.98k</td>\n",
              "      <td>NaN</td>\n",
              "      <td>NaN</td>\n",
              "    </tr>\n",
              "    <tr>\n",
              "      <th>4</th>\n",
              "      <td>Ms. Susan Ferrier</td>\n",
              "      <td>Group Exec. of People &amp; Culture</td>\n",
              "      <td>929.27k</td>\n",
              "      <td>NaN</td>\n",
              "      <td>NaN</td>\n",
              "    </tr>\n",
              "    <tr>\n",
              "      <th>5</th>\n",
              "      <td>Ms. Angela Mentis B.Bus</td>\n",
              "      <td>Group Chief Digital, Data &amp; Analytics Officer</td>\n",
              "      <td>1.62M</td>\n",
              "      <td>NaN</td>\n",
              "      <td>NaN</td>\n",
              "    </tr>\n",
              "    <tr>\n",
              "      <th>6</th>\n",
              "      <td>Mr. Shaun Dooley</td>\n",
              "      <td>Chief Risk Officer</td>\n",
              "      <td>1.05M</td>\n",
              "      <td>NaN</td>\n",
              "      <td>NaN</td>\n",
              "    </tr>\n",
              "    <tr>\n",
              "      <th>7</th>\n",
              "      <td>Mr. Andrew Irvine</td>\n",
              "      <td>Chief Exec. of Bus. Private Banking Division</td>\n",
              "      <td>333.27k</td>\n",
              "      <td>NaN</td>\n",
              "      <td>NaN</td>\n",
              "    </tr>\n",
              "    <tr>\n",
              "      <th>8</th>\n",
              "      <td>Mr. Lesile D. Matheson</td>\n",
              "      <td>Group Chief Operating Officer</td>\n",
              "      <td>NaN</td>\n",
              "      <td>NaN</td>\n",
              "      <td>1960.0</td>\n",
              "    </tr>\n",
              "    <tr>\n",
              "      <th>9</th>\n",
              "      <td>Ms. Sally Mihell</td>\n",
              "      <td>Head of Investor Relations</td>\n",
              "      <td>NaN</td>\n",
              "      <td>NaN</td>\n",
              "      <td>NaN</td>\n",
              "    </tr>\n",
              "  </tbody>\n",
              "</table>\n",
              "</div>"
            ],
            "text/plain": [
              "                                                Name  ... Year born\n",
              "0                Mr. Ross Maxwell McEwan CBE, B.B.S.  ...    1957.0\n",
              "1  Mr. Gary Andrew Lennon BEC, F.C.A., BEc (Hons)...  ...       NaN\n",
              "2                              Mr. Patrick F. Wright  ...    1967.0\n",
              "3                                 Ms. Sharon J. Cook  ...       NaN\n",
              "4                                  Ms. Susan Ferrier  ...       NaN\n",
              "5                            Ms. Angela Mentis B.Bus  ...       NaN\n",
              "6                                   Mr. Shaun Dooley  ...       NaN\n",
              "7                                  Mr. Andrew Irvine  ...       NaN\n",
              "8                             Mr. Lesile D. Matheson  ...    1960.0\n",
              "9                                   Ms. Sally Mihell  ...       NaN\n",
              "\n",
              "[10 rows x 5 columns]"
            ]
          },
          "metadata": {},
          "execution_count": 11
        }
      ]
    },
    {
      "cell_type": "markdown",
      "metadata": {
        "id": "vmQ9RekOJeH_"
      },
      "source": [
        "[Resident tax rates 2021–22\n",
        "Taxable income](https://www.ato.gov.au/rates/individual-income-tax-rates/)\n",
        "\n",
        "Income            | Tax on this income \n",
        "------------------|----------------------\n",
        "0 – \\$18,200       | Nil\n",
        "\\$18,201 – \\$45,000 | 19 cents for each \\$1 over \\$18,200\n",
        "\\$45,001 – \\$120,000 | \\$5,092 plus 32.5 cents for each \\$1 over \\$45,000\n",
        "\\$120,001 – \\$180,000 |  \\$29,467 plus 37 cents for each \\$1 over \\$120,000\n",
        "\\$180,001 and over | \\$51,667 plus 45 cents for each \\$1 over \\$180,000"
      ]
    },
    {
      "cell_type": "code",
      "metadata": {
        "id": "CA87iKESJC0Z"
      },
      "source": [
        "def get_Name():\n",
        "  Name = input(\"Please input your name?\")\n",
        "  print(\"Your name is \", Name)\n",
        "  return Name"
      ],
      "execution_count": null,
      "outputs": []
    },
    {
      "cell_type": "code",
      "metadata": {
        "id": "fiRxiDuRJi01"
      },
      "source": [
        "def get_income():\n",
        "  '''\n",
        "  This function will prompt the user for the income\n",
        "  and return the value\n",
        "  '''\n",
        "\n",
        "  income = int(input(\"What is your income for the year? \"))\n",
        "  print(\"Your income is \", income)\n",
        "  return income"
      ],
      "execution_count": null,
      "outputs": []
    },
    {
      "cell_type": "code",
      "metadata": {
        "id": "ysgTkywZJlkM"
      },
      "source": [
        "def calculate_tax(income):\n",
        "  if income <= 18200:\n",
        "    tax_payable = 0\n",
        "  elif 18200 < income <= 45000:\n",
        "    tax_payable = 0.19 * (income - 18200)\n",
        "  elif 45000 < income < 120000:\n",
        "    tax_payable = 5092 + 0.32 * (income - 45000)\n",
        "  elif 120000 < income < 180000:\n",
        "    tax_payable = 29467 + 0.37 * (income - 120000) \n",
        "  elif 180000 < income:\n",
        "    tax_payable = 51667 + 0.45 * (income - 180000)\n",
        "\n",
        "  return tax_payable"
      ],
      "execution_count": null,
      "outputs": []
    },
    {
      "cell_type": "code",
      "metadata": {
        "colab": {
          "base_uri": "https://localhost:8080/"
        },
        "id": "9k9W4YGkJo50",
        "outputId": "f81a11d0-f75f-4be2-8353-93f0e49fb47d"
      },
      "source": [
        "# 'Main line'\n",
        "Name = get_Name()\n",
        "# Step 1\n",
        "income = get_income()\n",
        "\n",
        "# Step 2\n",
        "tax = calculate_tax(income)\n",
        "\n",
        "print(\" Your tax payable is \", tax)"
      ],
      "execution_count": null,
      "outputs": [
        {
          "output_type": "stream",
          "name": "stdout",
          "text": [
            "Please input your name?Rosewood Mary\n",
            "Your name is  Rosewood Mary\n",
            "What is your income for the year? 2054000\n",
            "Your income is  2054000\n",
            " Your tax payable is  894967.0\n"
          ]
        }
      ]
    },
    {
      "cell_type": "code",
      "metadata": {
        "id": "ULWc6D_CJzFQ",
        "colab": {
          "base_uri": "https://localhost:8080/"
        },
        "outputId": "85954ef6-c005-4106-e920-c909ef6e7f4a"
      },
      "source": [
        "stock_ticker = input(\"Please input the companies stock ticker: \")\n",
        "\n",
        "\n",
        "template = 'https://au.finance.yahoo.com/quote/{}/profile?p={}'\n",
        "url = template.format(stock_ticker,stock_ticker)\n"
      ],
      "execution_count": 1,
      "outputs": [
        {
          "name": "stdout",
          "output_type": "stream",
          "text": [
            "Please input the companies stock ticker: NAB.AX\n"
          ]
        }
      ]
    },
    {
      "cell_type": "code",
      "metadata": {
        "colab": {
          "base_uri": "https://localhost:8080/"
        },
        "id": "ovKHCSz4cYaY",
        "outputId": "9a3694a9-2f90-44ec-e1b6-97ac87026dc1"
      },
      "source": [
        "# install requirements\n",
        "!pip install kora -q\n",
        "\n",
        "#load packages\n",
        "from bs4 import BeautifulSoup\n",
        "from kora.selenium import wd"
      ],
      "execution_count": 2,
      "outputs": [
        {
          "output_type": "stream",
          "name": "stdout",
          "text": [
            "\u001b[K     |████████████████████████████████| 57 kB 2.7 MB/s \n",
            "\u001b[K     |████████████████████████████████| 56 kB 3.9 MB/s \n",
            "\u001b[?25h"
          ]
        }
      ]
    },
    {
      "cell_type": "code",
      "metadata": {
        "id": "WQPoSjRTcl8w"
      },
      "source": [
        "def get_url():\n",
        "  template = 'https://au.finance.yahoo.com/quote/{}/profile?p={}'\n",
        "  stock_ticker = input(\"Please input the companies stock ticker: \")\n",
        "  url = template.format(stock_ticker,stock_ticker)\n",
        "  return url"
      ],
      "execution_count": 5,
      "outputs": []
    },
    {
      "cell_type": "code",
      "metadata": {
        "colab": {
          "base_uri": "https://localhost:8080/"
        },
        "id": "Aqic91-yc2ye",
        "outputId": "d176b235-d5e3-4f62-b7f3-c7e52ef804b9"
      },
      "source": [
        "url = get_url()\n",
        "wd.get(url)\n"
      ],
      "execution_count": 7,
      "outputs": [
        {
          "name": "stdout",
          "output_type": "stream",
          "text": [
            "Please input the companies stock ticker: NAB.AX\n"
          ]
        }
      ]
    },
    {
      "cell_type": "code",
      "metadata": {
        "colab": {
          "base_uri": "https://localhost:8080/"
        },
        "id": "qcG48o-KdBwx",
        "outputId": "9572265f-1fa5-4835-a5f8-af00083a5f91"
      },
      "source": [
        "soup = BeautifulSoup(wd.page_source, \"html.parser\")\n",
        "\n",
        "tables = soup.find_all('table')\n",
        "len(tables)"
      ],
      "execution_count": 8,
      "outputs": [
        {
          "output_type": "execute_result",
          "data": {
            "text/plain": [
              "1"
            ]
          },
          "metadata": {},
          "execution_count": 8
        }
      ]
    },
    {
      "cell_type": "code",
      "metadata": {
        "id": "DmlktGB_dQcN"
      },
      "source": [
        "tbody = tables[0].find('tbody')"
      ],
      "execution_count": 9,
      "outputs": []
    },
    {
      "cell_type": "code",
      "metadata": {
        "id": "5VWw8S10dVR9"
      },
      "source": [
        "rows = tbody.find_all('tr')"
      ],
      "execution_count": 10,
      "outputs": []
    },
    {
      "cell_type": "code",
      "metadata": {
        "id": "SZDpMIRadaxT"
      },
      "source": [
        "columns = rows[0].find_all('td')"
      ],
      "execution_count": 11,
      "outputs": []
    },
    {
      "cell_type": "code",
      "metadata": {
        "colab": {
          "base_uri": "https://localhost:8080/"
        },
        "id": "SyUiI5HOdgK5",
        "outputId": "986e1f0e-7116-419b-bbda-1d9dfdd3852d"
      },
      "source": [
        "tables = soup.find_all('table')\n",
        "for table in tables:\n",
        "  body = table.find('tbody')\n",
        "  rows = body.find_all(\"tr\")\n",
        "  for row in rows:\n",
        "    data = row.find_all('td')\n",
        "    for txt in data:\n",
        "      print(txt.text)\n",
        "    print()"
      ],
      "execution_count": 12,
      "outputs": [
        {
          "output_type": "stream",
          "name": "stdout",
          "text": [
            "Mr. Ross Maxwell McEwan CBE, B.B.S.\n",
            "Group CEO, MD & Director\n",
            "2.54M\n",
            "N/A\n",
            "1957\n",
            "\n",
            "Mr. Gary Andrew Lennon BEC, F.C.A., BEc (Hons), FCA\n",
            "Group Chief Financial Officer\n",
            "1.13M\n",
            "N/A\n",
            "N/A\n",
            "\n",
            "Mr. Patrick F. Wright\n",
            "Group Exec. of Technology & Enterprise Operations\n",
            "1.72M\n",
            "N/A\n",
            "1967\n",
            "\n",
            "Ms. Sharon J. Cook\n",
            "Group Exec. of Legal & Commercial Services\n",
            "912.98k\n",
            "N/A\n",
            "N/A\n",
            "\n",
            "Ms. Susan  Ferrier\n",
            "Group Exec. of People & Culture\n",
            "929.27k\n",
            "N/A\n",
            "N/A\n",
            "\n",
            "Ms. Angela  Mentis B.Bus\n",
            "Group Chief Digital, Data & Analytics Officer\n",
            "1.62M\n",
            "N/A\n",
            "N/A\n",
            "\n",
            "Mr. Shaun  Dooley\n",
            "Chief Risk Officer\n",
            "1.05M\n",
            "N/A\n",
            "N/A\n",
            "\n",
            "Mr. Andrew  Irvine\n",
            "Chief Exec. of Bus. Private Banking Division\n",
            "333.27k\n",
            "N/A\n",
            "N/A\n",
            "\n",
            "Mr. Lesile D. Matheson\n",
            "Group Chief Operating Officer\n",
            "N/A\n",
            "N/A\n",
            "1960\n",
            "\n",
            "Ms. Sally  Mihell\n",
            "Head of Investor Relations\n",
            "N/A\n",
            "N/A\n",
            "N/A\n",
            "\n"
          ]
        }
      ]
    },
    {
      "cell_type": "code",
      "metadata": {
        "id": "9gXY6hvidlDK"
      },
      "source": [
        "# install requirements\n",
        "!pip install kora -q\n",
        "\n",
        "#load packages\n",
        "from bs4 import BeautifulSoup\n",
        "from kora.selenium import wd\n",
        "\n",
        "def get_url():\n",
        "  template = 'https://au.finance.yahoo.com/quote/{}/profile?p={}'\n",
        "  stock_ticker = input(\"Please input the companies stock ticker: \")\n",
        "  url = template.format(stock_ticker,stock_ticker)\n",
        "  return url\n",
        "\n",
        "  url = get_url()\n",
        "  wd.get(url)\n",
        "  print(get_url)\n",
        "   \n",
        "  soup = BeautifulSoup(wd.page_source, \"html.parser\")\n",
        "   \n",
        "  tables = soup.find_all('table')\n",
        "  for table in tables:\n",
        "     body = table.find('tbody')\n",
        "     rows = body.find_all(\"tr\")\n",
        "     for row in rows:\n",
        "        data = row.find_all('td')\n",
        "        for txt in data:\n",
        "         print(txt.text)\n",
        "         print()\n"
      ],
      "execution_count": 18,
      "outputs": []
    },
    {
      "cell_type": "code",
      "metadata": {
        "id": "h7luLAKfekxj"
      },
      "source": [
        ""
      ],
      "execution_count": null,
      "outputs": []
    }
  ]
}