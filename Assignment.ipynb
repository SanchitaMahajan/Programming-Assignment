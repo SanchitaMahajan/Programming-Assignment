{
  "nbformat": 4,
  "nbformat_minor": 0,
  "metadata": {
    "colab": {
      "name": "Assignment.ipynb",
      "provenance": [],
      "authorship_tag": "ABX9TyMtgjCFBiPV2nm3n27/OK7j",
      "include_colab_link": true
    },
    "kernelspec": {
      "name": "python3",
      "display_name": "Python 3"
    },
    "language_info": {
      "name": "python"
    }
  },
  "cells": [
    {
      "cell_type": "markdown",
      "metadata": {
        "id": "view-in-github",
        "colab_type": "text"
      },
      "source": [
        "<a href=\"https://colab.research.google.com/github/SanchitaMahajan/Programming-Assignment/blob/main/Assignment.ipynb\" target=\"_parent\"><img src=\"https://colab.research.google.com/assets/colab-badge.svg\" alt=\"Open In Colab\"/></a>"
      ]
    },
    {
      "cell_type": "markdown",
      "metadata": {
        "id": "WgnKLtYL6B3m"
      },
      "source": [
        "#**ASSIGNMENT**\n",
        "\n",
        "##By Sanchita Mahajan (20467876)\n",
        "\n",
        "1. This notebook will prompt the user to input a company's stock market ticker symbol. \n",
        "2. It will then get the data from the Yahoo Finance website to extract information on the key of the company. \n",
        "3. Then the income tax will be calculated for each\n",
        "executive based on the ATO tax tables. \n",
        "4. The User can further choose if the data\n",
        "will be saved as a CSV and/or stored in an SQLite database.\n",
        "\n",
        "##***Here is the link of the Yahoo Finance WebPage:-***\n",
        "\n",
        "https://au.finance.yahoo.com/\n",
        "\n",
        "\n",
        "\n",
        "\n",
        "\n",
        "\n",
        "\n",
        "##***Here is the ATO tables based on which Income tax of all Key Executives will be calculated:-***\n",
        "\n",
        "\n",
        "[Resident tax rates 2021–22\n",
        "Taxable income](https://www.ato.gov.au/rates/individual-income-tax-rates/)\n",
        "\n",
        "Income            | Tax on this income \n",
        "------------------|----------------------\n",
        "0 – \\$18,200       | Nil\n",
        "\\$18,201 – \\$45,000 | 19 cents for each \\$1 over \\$18,200\n",
        "\\$45,001 – \\$120,000 | \\$5,092 plus 32.5 cents for each \\$1 over \\$45,000\n",
        "\\$120,001 – \\$180,000 |  \\$29,467 plus 37 cents for each \\$1 over \\$120,000\n",
        "\\$180,001 and over | \\$51,667 plus 45 cents for each \\$1 over \\$180,000"
      ]
    },
    {
      "cell_type": "markdown",
      "metadata": {
        "id": "9_7uKHSm6H79"
      },
      "source": [
        "# Initial Algorithm\n",
        "\n",
        "1. Use input ticker symbol\n",
        "2. Use ticker to get profile page\n",
        "3. Copy the table\n",
        "4. For each row of the table:-\n",
        " * Process a row to extract pay\n",
        " * Find last character to determine multiplier\n",
        " * Calculate income tax\n",
        "\n",
        " Note: \n",
        "\n",
        " 1. Need to validate the ticker, but for now i assume that user type in a correct ticker.\n",
        " 2. Still need to work with where to save the income tax"
      ]
    },
    {
      "cell_type": "code",
      "metadata": {
        "id": "HW2hNCmvZmCq"
      },
      "source": [
        "# Install unique packages\n",
        "!pip install kora -q\n",
        "\n",
        "# load packages\n",
        "from bs4 import BeautifulSoup\n",
        "from kora.selenium import wd\n",
        "import pandas as pd\n",
        "import csv\n"
      ],
      "execution_count": 1,
      "outputs": []
    },
    {
      "cell_type": "code",
      "metadata": {
        "id": "dgp6ev-1Yo4w"
      },
      "source": [
        "def get_url():\n",
        "  '''This function will prompt the user to input a ticker symbol and get \n",
        "  the URL of the profile page'''\n",
        "  \n",
        "  ticker_symbol = input( \"Please input a ticker symbol \")\n",
        "  print(ticker_symbol)\n",
        "  example_url = 'https://au.finance.yahoo.com/quote/{}/profile?p={}'\n",
        "  result = example_url.format(ticker_symbol, ticker_symbol)\n",
        "  return result"
      ],
      "execution_count": 2,
      "outputs": []
    },
    {
      "cell_type": "code",
      "metadata": {
        "id": "b6rhGdYm84yK"
      },
      "source": [
        "def get_cells_data(row):\n",
        "  ''' This function will get the data of the first cells(Name, Title, Pay \n",
        "  of the Key Executives''' \n",
        "  \n",
        "  cells = row.find_all('td')\n",
        "  name = cells[0].text\n",
        "  title = cells[1].text\n",
        "  pay = cells[2].text\n",
        "  return {'name': name, 'title': title,'pay': pay}\n",
        "\n"
      ],
      "execution_count": 3,
      "outputs": []
    },
    {
      "cell_type": "code",
      "metadata": {
        "id": "vIY7YgiC_oWn"
      },
      "source": [
        "def get_extract_records(soup):\n",
        "  '''This function will extract records of key executives of different \n",
        " ticker symbols'''\n",
        " \n",
        "  table = soup.find('table')\n",
        "  body = table.find('tbody')\n",
        "  rows = body.find_all('tr')\n",
        "  \n",
        "  extract_records = []\n",
        "  for row in rows:\n",
        "    result = get_cells_data(row)\n",
        "    extract_records.append(result)\n",
        "  return extract_records"
      ],
      "execution_count": 4,
      "outputs": []
    },
    {
      "cell_type": "code",
      "metadata": {
        "id": "dwd7-pf0Iff4"
      },
      "source": [
        "def get_salary(rec):\n",
        "  ''' This function will get the salary(pay) of the Key executives'''\n",
        "  \n",
        "  pay = rec['pay']\n",
        "  last_pay_character = pay[-1]\n",
        "  num_part = pay[0:-1]\n",
        "\n",
        "  if last_pay_character == 'M':\n",
        "    salary = float(num_part) * 1000000\n",
        "    #print(\"Millions\")\n",
        "  elif last_pay_character == 'k':\n",
        "    salary = float(num_part) * 1000\n",
        "    #print(\"Thousand\")\n",
        "  else:\n",
        "    salary = 0\n",
        "    #print(\"Not sure\")\n",
        "\n",
        "  return salary"
      ],
      "execution_count": 5,
      "outputs": []
    },
    {
      "cell_type": "code",
      "metadata": {
        "id": "XLu-0YYFeI01"
      },
      "source": [
        "def calculate_tax(income):\n",
        "   ''' This function will calculate the tax (based on ATO table) \n",
        "   on salary(pay) of the Key executives'''\n",
        "   \n",
        "   if income <= 18200:\n",
        "    tax_payable = 0\n",
        "   elif 18200 < income <= 45000:\n",
        "    tax_payable = 0.19 * (income - 18200)\n",
        "   elif 45000 < income < 120000:\n",
        "    tax_payable = 5092 + 0.32 * (income - 45000)\n",
        "   elif 120001 < income < 180000:\n",
        "    tax_payable = 29467 + 0.37 * (income - 120000)\n",
        "   elif income > 180000:\n",
        "    tax_payable = 51667 + 0.45 * (income - 180000)\n",
        "\n",
        "\n",
        "   return tax_payable"
      ],
      "execution_count": 6,
      "outputs": []
    },
    {
      "cell_type": "code",
      "metadata": {
        "id": "MRAp_iE-Wq9w",
        "colab": {
          "base_uri": "https://localhost:8080/",
          "height": 393
        },
        "outputId": "178cf2d5-958a-4832-a8e6-622b78efb156"
      },
      "source": [
        "# Get URL\n",
        "url = get_url()\n",
        "wd.get(url)\n",
        "soup = BeautifulSoup(wd.page_source, \"html.parser\")\n",
        "records = get_extract_records(soup)\n",
        "\n",
        "for record in records:\n",
        "  result = get_salary(record)\n",
        "  income_tax = calculate_tax(result)\n",
        "  record['tax'] = income_tax\n",
        "\n",
        "# creat a pandas datafrme (because recall in a earlier notebok a data frame is easy to save as csv)\n",
        "\n",
        "execs_df = pd.DataFrame.from_records(records)\n",
        "execs_df"
      ],
      "execution_count": 9,
      "outputs": [
        {
          "output_type": "stream",
          "name": "stdout",
          "text": [
            "Please input a ticker symbol COL.AX\n",
            "COL.AX\n"
          ]
        },
        {
          "output_type": "execute_result",
          "data": {
            "text/html": [
              "<div>\n",
              "<style scoped>\n",
              "    .dataframe tbody tr th:only-of-type {\n",
              "        vertical-align: middle;\n",
              "    }\n",
              "\n",
              "    .dataframe tbody tr th {\n",
              "        vertical-align: top;\n",
              "    }\n",
              "\n",
              "    .dataframe thead th {\n",
              "        text-align: right;\n",
              "    }\n",
              "</style>\n",
              "<table border=\"1\" class=\"dataframe\">\n",
              "  <thead>\n",
              "    <tr style=\"text-align: right;\">\n",
              "      <th></th>\n",
              "      <th>name</th>\n",
              "      <th>title</th>\n",
              "      <th>pay</th>\n",
              "      <th>tax</th>\n",
              "    </tr>\n",
              "  </thead>\n",
              "  <tbody>\n",
              "    <tr>\n",
              "      <th>0</th>\n",
              "      <td>Mr. Steven  Cain</td>\n",
              "      <td>MD, CEO &amp; Director</td>\n",
              "      <td>3.33M</td>\n",
              "      <td>1469167.0</td>\n",
              "    </tr>\n",
              "    <tr>\n",
              "      <th>1</th>\n",
              "      <td>Ms. Leah  Weckert</td>\n",
              "      <td>Chief Financial Officer</td>\n",
              "      <td>1.8M</td>\n",
              "      <td>780667.0</td>\n",
              "    </tr>\n",
              "    <tr>\n",
              "      <th>2</th>\n",
              "      <td>Mr. Matthew  Swindells</td>\n",
              "      <td>Chief Operations Officer</td>\n",
              "      <td>1.58M</td>\n",
              "      <td>681667.0</td>\n",
              "    </tr>\n",
              "    <tr>\n",
              "      <th>3</th>\n",
              "      <td>Mr. Greg  Davis</td>\n",
              "      <td>Chief Exec. - Commercial &amp; Express</td>\n",
              "      <td>1.61M</td>\n",
              "      <td>695167.0</td>\n",
              "    </tr>\n",
              "    <tr>\n",
              "      <th>4</th>\n",
              "      <td>Mr. John  Cox</td>\n",
              "      <td>Chief Technology Officer</td>\n",
              "      <td>N/A</td>\n",
              "      <td>0.0</td>\n",
              "    </tr>\n",
              "    <tr>\n",
              "      <th>5</th>\n",
              "      <td>Mark  Howell</td>\n",
              "      <td>Gen. Mang. of Investor Relations</td>\n",
              "      <td>N/A</td>\n",
              "      <td>0.0</td>\n",
              "    </tr>\n",
              "    <tr>\n",
              "      <th>6</th>\n",
              "      <td>Mr. David  Brewster</td>\n",
              "      <td>Chief Legal Officer</td>\n",
              "      <td>N/A</td>\n",
              "      <td>0.0</td>\n",
              "    </tr>\n",
              "    <tr>\n",
              "      <th>7</th>\n",
              "      <td>Ms. Lisa  Ronson</td>\n",
              "      <td>Chief Marketing Officer</td>\n",
              "      <td>N/A</td>\n",
              "      <td>0.0</td>\n",
              "    </tr>\n",
              "    <tr>\n",
              "      <th>8</th>\n",
              "      <td>Ms. Kris  Webb</td>\n",
              "      <td>Chief People Officer</td>\n",
              "      <td>N/A</td>\n",
              "      <td>0.0</td>\n",
              "    </tr>\n",
              "    <tr>\n",
              "      <th>9</th>\n",
              "      <td>Mr. Thinus  Keeve</td>\n",
              "      <td>Chief Sustainability, Property &amp; Export Officer</td>\n",
              "      <td>N/A</td>\n",
              "      <td>0.0</td>\n",
              "    </tr>\n",
              "  </tbody>\n",
              "</table>\n",
              "</div>"
            ],
            "text/plain": [
              "                     name  ...        tax\n",
              "0        Mr. Steven  Cain  ...  1469167.0\n",
              "1       Ms. Leah  Weckert  ...   780667.0\n",
              "2  Mr. Matthew  Swindells  ...   681667.0\n",
              "3         Mr. Greg  Davis  ...   695167.0\n",
              "4           Mr. John  Cox  ...        0.0\n",
              "5            Mark  Howell  ...        0.0\n",
              "6     Mr. David  Brewster  ...        0.0\n",
              "7        Ms. Lisa  Ronson  ...        0.0\n",
              "8          Ms. Kris  Webb  ...        0.0\n",
              "9       Mr. Thinus  Keeve  ...        0.0\n",
              "\n",
              "[10 rows x 4 columns]"
            ]
          },
          "metadata": {},
          "execution_count": 9
        }
      ]
    },
    {
      "cell_type": "code",
      "metadata": {
        "id": "K9xMpd3GETpp",
        "colab": {
          "base_uri": "https://localhost:8080/"
        },
        "outputId": "33d46bc2-5292-475e-c898-319e8f451fb5"
      },
      "source": [
        "'''Saving the Income Tax of Key Executives in a csv and an excel file'''\n",
        "# Saving the output\n",
        "execs_df.to_csv('Key_Executives.csv')\n",
        "execs_df.to_excel('Key_Executives.xlsx')\n",
        "print('Saved to file')"
      ],
      "execution_count": 10,
      "outputs": [
        {
          "output_type": "stream",
          "name": "stdout",
          "text": [
            "Saved to file\n"
          ]
        }
      ]
    },
    {
      "cell_type": "code",
      "metadata": {
        "id": "edrijiIFMNPp"
      },
      "source": [
        "import sqlite3"
      ],
      "execution_count": 11,
      "outputs": []
    },
    {
      "cell_type": "code",
      "metadata": {
        "id": "zAkMbm1cNAKw"
      },
      "source": [
        "conn = sqlite3.connect(\"Key_Executives.db\")\n",
        "c = conn.cursor()"
      ],
      "execution_count": 12,
      "outputs": []
    },
    {
      "cell_type": "code",
      "metadata": {
        "id": "MBSsPWY6Nwim"
      },
      "source": [
        ""
      ],
      "execution_count": null,
      "outputs": []
    }
  ]
}