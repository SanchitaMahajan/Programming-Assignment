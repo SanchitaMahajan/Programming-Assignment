{
  "nbformat": 4,
  "nbformat_minor": 0,
  "metadata": {
    "colab": {
      "name": "Assignment.ipynb",
      "provenance": [],
      "authorship_tag": "ABX9TyN4+9yd2OXeGzRoXgUMzbtt",
      "include_colab_link": true
    },
    "kernelspec": {
      "name": "python3",
      "display_name": "Python 3"
    },
    "language_info": {
      "name": "python"
    }
  },
  "cells": [
    {
      "cell_type": "markdown",
      "metadata": {
        "id": "view-in-github",
        "colab_type": "text"
      },
      "source": [
        "<a href=\"https://colab.research.google.com/github/SanchitaMahajan/Programming-Assignment/blob/main/Assignment.ipynb\" target=\"_parent\"><img src=\"https://colab.research.google.com/assets/colab-badge.svg\" alt=\"Open In Colab\"/></a>"
      ]
    },
    {
      "cell_type": "markdown",
      "metadata": {
        "id": "WgnKLtYL6B3m"
      },
      "source": [
        "#**ASSIGNMENT**\n",
        "\n",
        "##By Sanchita Mahajan (20467876)\n",
        "\n",
        "1. This notebook will prompt the user to input a company's stock market ticker symbol. \n",
        "2. It will then get the data from the Yahoo Finance website to extract information on the key of the company. \n",
        "3. Then the income tax will be calculated for each\n",
        "executive based on the ATO tax tables. \n",
        "4. The User can further choose if the data\n",
        "will be saved as a CSV and/or stored in an SQLite database.\n",
        "\n",
        "##***Here is the link of the Yahoo Finance WebPage:-***\n",
        "\n",
        "https://au.finance.yahoo.com/\n",
        "\n",
        "\n",
        "\n",
        "\n",
        "\n",
        "\n",
        "\n",
        "##***Here is the ATO tables based on which Income tax of all Key Executives will be calculated:-***\n",
        "\n",
        "\n",
        "[Resident tax rates 2021–22\n",
        "Taxable income](https://www.ato.gov.au/rates/individual-income-tax-rates/)\n",
        "\n",
        "Income            | Tax on this income \n",
        "------------------|----------------------\n",
        "0 – \\$18,200       | Nil\n",
        "\\$18,201 – \\$45,000 | 19 cents for each \\$1 over \\$18,200\n",
        "\\$45,001 – \\$120,000 | \\$5,092 plus 32.5 cents for each \\$1 over \\$45,000\n",
        "\\$120,001 – \\$180,000 |  \\$29,467 plus 37 cents for each \\$1 over \\$120,000\n",
        "\\$180,001 and over | \\$51,667 plus 45 cents for each \\$1 over \\$180,000"
      ]
    },
    {
      "cell_type": "markdown",
      "metadata": {
        "id": "9_7uKHSm6H79"
      },
      "source": [
        " # **Algorithm**\n",
        "\n",
        "*1. Firstly, The user has to input a valid ticker symbol **(Only Australian Companies are allowed to search, use '.AX')**.*\n",
        "\n",
        "*2. Ticker symbol will be used to extract Web page and scrape data of Key Executives.*\n",
        "\n",
        "*3. A function will be created to get the URL.*\n",
        "\n",
        "*4. Then a function will be created to extract cells data of each row.*\n",
        "\n",
        "*5. Finally, The function will be created to get salary of all key executives and calculate tax on the pay based on the ATO tables.* \n"
      ]
    },
    {
      "cell_type": "markdown",
      "metadata": {
        "id": "i2I1b_GhmE7I"
      },
      "source": [
        "# **User Instructions:-**\n",
        "***1. Please input a Valid stock ticker symbol.***\n",
        "\n",
        "***2.Only Australian companies are allowed to be searched.***\n",
        "\n",
        "***3.Kindly use '.AX' after the company names to search for stock ticker symbols.*** \n",
        "\n",
        "***4.Dont use Numbers and use only valid stock ticker symbols like NAB.AX, COL.AX, ANZ.AX , CBA.AX and so on.***\n"
      ]
    },
    {
      "cell_type": "markdown",
      "metadata": {
        "id": "YfIa7aqy_6KP"
      },
      "source": [
        "# **First Step is to Install Unique Packages:-**\n",
        "***1. We have to install the following packages..***"
      ]
    },
    {
      "cell_type": "code",
      "metadata": {
        "id": "HW2hNCmvZmCq"
      },
      "source": [
        "# Install unique packages\n",
        "!pip install kora -q\n",
        "\n",
        "# load packages\n",
        "from bs4 import BeautifulSoup\n",
        "from kora.selenium import wd\n",
        "import pandas as pd\n",
        "import csv\n",
        "import ipywidgets as widgets\n"
      ],
      "execution_count": null,
      "outputs": []
    },
    {
      "cell_type": "markdown",
      "metadata": {
        "id": "uCyW8wZl_-vN"
      },
      "source": [
        "# **Second Step is to Create a function to get the URL:-**\n",
        "***1. The User has to input a stock ticker symbol..***\n",
        "\n",
        "***2. The function will then return the Webpage of the input Stock ticker provided by the user and provide details of the Key Executive of the Stock ticker company.***\n",
        "\n",
        "***3.The Input here is the stock ticker symbol which will get the URL of the profile table of the Yahoo Finance webpage.***\n",
        "\n",
        "\n",
        "\n",
        "---\n",
        "\n",
        "\n",
        "\n",
        "\n",
        "# **WORKING:-**\n",
        "\n",
        "After careful analysis we realised that:-\n",
        "\n",
        "**URL of NAB.AX:** https://au.finance.yahoo.com/quote/NAB.AX/profile?p=NAB.AX\n",
        "\n",
        "**URL of COL.AX:** https://au.finance.yahoo.com/quote/COL.AX/profile?p=COL.AX\n",
        "\n",
        "***The only difference is the name placement in the URL, therefore we can set up the URL in the following way:-***\n",
        "\n",
        "  **example_url**  = 'https://au.finance.yahoo.com/quote/{}/profile?p={}'\n",
        "\n",
        "  ***(We only have to input the stock ticker symbols in the Curly brackets{}..)***\n",
        "\n",
        "---\n",
        "\n",
        "\n",
        "\n",
        "##*So,the result URL will be:-*\n",
        "\n",
        "***example_url.format(ticker_symbol, ticker_symbol)*** \n",
        "\n"
      ]
    },
    {
      "cell_type": "code",
      "metadata": {
        "id": "dgp6ev-1Yo4w"
      },
      "source": [
        "def get_url():\n",
        "  '''This function will prompt the user to input a ticker symbol and get \n",
        "  the URL of the profile page'''\n",
        "  \n",
        "  ticker_symbol = input( \"Please input a ticker symbol \")\n",
        "  print(ticker_symbol)\n",
        "  example_url = 'https://au.finance.yahoo.com/quote/{}/profile?p={}'\n",
        "  result = example_url.format(ticker_symbol, ticker_symbol)\n",
        "  return result\n"
      ],
      "execution_count": null,
      "outputs": []
    },
    {
      "cell_type": "markdown",
      "metadata": {
        "id": "lWSyYsPSAwgU"
      },
      "source": [
        "#**Third Step is to Create a function to get the Cells data of the generated table:-**\n",
        "\n",
        "***1. This function will return the Name, Title and Pay of all the Key Executives of the input stock ticker symbol company...***\n",
        "\n",
        "\n",
        "\n",
        "\n",
        "---\n",
        "\n",
        "# **Working:-**\n",
        "\n",
        "***1. Cells can be find using row.find_all('td') where ('td') is used to get the cells details.*** \n",
        "\n",
        "***2. For the Key Executives,We just need the Name, title and pay of the excecutives. So, accordingly we just need text of 1,2 and 3 cells.*** "
      ]
    },
    {
      "cell_type": "code",
      "metadata": {
        "id": "b6rhGdYm84yK"
      },
      "source": [
        "def get_cells_data(row):\n",
        "  ''' This function will get the data of the first cells(Name, Title, Pay \n",
        "  of the Key Executives''' \n",
        "  \n",
        "  cells = row.find_all('td')\n",
        "  name = cells[0].text\n",
        "  title = cells[1].text\n",
        "  pay = cells[2].text\n",
        "  return {'name': name, 'title': title,'pay': pay}\n",
        "  "
      ],
      "execution_count": null,
      "outputs": []
    },
    {
      "cell_type": "markdown",
      "metadata": {
        "id": "LvUVqMENBTdf"
      },
      "source": [
        "# **Fourth Step is to Create a function to extract records of Key Executives of different ticker symbols:-**\n",
        "\n",
        "---\n",
        "\n",
        "\n",
        "\n",
        "# **Working:-**\n",
        "\n",
        "***1. Table will be found using the soup.find('table).***\n",
        "\n",
        "**2. Further table body will be found using table.find('tbody').**\n",
        "\n",
        "**3. Atlast rows data will be extracted using body.find_all('tr').**   \n",
        "\n",
        "**4. Result can be extracted using get_cells_data(row) where get_cells_data function was used to extract details of the first 3 cells of the rows (Name, Title and Pay).**\n",
        "\n",
        "**5.Atlast this function will return the records of all the rows of the stock ticker symbol.**\n"
      ]
    },
    {
      "cell_type": "code",
      "metadata": {
        "id": "vIY7YgiC_oWn"
      },
      "source": [
        "def get_extract_records(soup):\n",
        "  '''This function will extract records of key executives of different \n",
        " ticker symbols'''\n",
        " \n",
        "  table = soup.find('table')\n",
        "  body = table.find('tbody')\n",
        "  rows = body.find_all('tr')\n",
        "  \n",
        "  extract_records = []\n",
        "  for row in rows:\n",
        "    result = get_cells_data(row)\n",
        "    extract_records.append(result)\n",
        "  return extract_records\n",
        "  "
      ],
      "execution_count": null,
      "outputs": []
    },
    {
      "cell_type": "markdown",
      "metadata": {
        "id": "DHBflMzdBzsD"
      },
      "source": [
        "# **Fifth Step is to Create a function to get the salary of the Key Executives:-**\n",
        "\n",
        "This function will help to extract the salary of all the Key Executives from the table.\n",
        "\n",
        "---\n",
        "\n",
        "\n",
        "\n",
        "# **Working:-**\n",
        "\n",
        "**1.After careful analysis,We saw that the pay of each executive is shown as 2.38M,9.988K and N/A and so on...**\n",
        "\n",
        "\n",
        "**2.But to calculate the salary, we need to remove the (M, k) and convert the salary in AUD by multiplying the given figures with:-**\n",
        "\n",
        "`(Pay*1000000), In case of M (millions)` \n",
        "\n",
        "`(Pay*1000), In case of K (thousands)`\n",
        "\n",
        "**3.So, for this, the last pay character needs to be removed, by using the following:-**\n",
        "\n",
        "`last_pay_character = pay[-1]`\n",
        "\n",
        "**4.And to calculate the num_part if function is used saying if the last character of pay is 'M' then,** \n",
        "\n",
        "`salary = float(num_part) * 1000000`\n",
        "    \n",
        "  `elif last_pay_character == 'k':`\n",
        "  \n",
        "    salary = float(num_part) * 1000\n",
        "  \n",
        "  `else:`\n",
        "\n",
        "   `salary = 0 (N/A)`\n",
        "\n",
        "\n",
        "\n",
        "\n",
        "\n",
        "***This function will return the salary of all the executives in AUD....***\n",
        "  \n"
      ]
    },
    {
      "cell_type": "code",
      "metadata": {
        "id": "dwd7-pf0Iff4"
      },
      "source": [
        "def get_salary(rec):\n",
        "  ''' This function will get the salary(pay) of the Key executives'''\n",
        "  \n",
        "  pay = rec['pay']\n",
        "  last_pay_character = pay[-1]\n",
        "  num_part = pay[0:-1]\n",
        "\n",
        "  if last_pay_character == 'M':\n",
        "    salary = float(num_part) * 1000000\n",
        "    #print(\"Millions\")\n",
        "  elif last_pay_character == 'k':\n",
        "    salary = float(num_part) * 1000\n",
        "    #print(\"Thousand\")\n",
        "  else:\n",
        "    salary = 0\n",
        "    #print(\"Not sure\")\n",
        "\n",
        "  return salary\n",
        "  "
      ],
      "execution_count": null,
      "outputs": []
    },
    {
      "cell_type": "markdown",
      "metadata": {
        "id": "B8E_uKdrCFBO"
      },
      "source": [
        "# **Sixth Step is to Create a function to Calculate the Income tax(based on ATO table) on salary of the Key Executives:-**\n",
        "\n",
        "***1.This function will help in calculating the tax on the salaries of the key executives.***\n",
        "\n",
        "***2.Income will be calculated based on ATO Tables:-***\n",
        "\n",
        "`If income <= 18200, there will be zero tax`\n",
        "\n",
        "`elif 18200<income<45000, tax will be calculated based on 0.19 8* (income - 18200)`\n",
        "\n",
        "` elif 45000 < income < 120000, tax will be calculated based on 5092 + 0.32 * (income - 45000)`\n",
        "\n",
        "`elif 120001 < income < 180000, tax will be calculated based on 29467 + 0.37 * (income - 120000)` \n",
        "   \n",
        "`elif income > 180000,tax will be calculated based on 51667 + 0.45 * (income - 180000)`\n",
        "\n",
        "***This function will return the tax payable by all key executives.***\n",
        "\n",
        "\n"
      ]
    },
    {
      "cell_type": "code",
      "metadata": {
        "id": "XLu-0YYFeI01"
      },
      "source": [
        "def calculate_tax(income):\n",
        "   ''' This function will calculate the tax (based on ATO table) \n",
        "   on salary(pay) of the Key executives'''\n",
        "   \n",
        "   if income <= 18200:\n",
        "    tax_payable = 0\n",
        "   elif 18200 < income <= 45000:\n",
        "    tax_payable = 0.19 * (income - 18200)\n",
        "   elif 45000 < income < 120000:\n",
        "    tax_payable = 5092 + 0.32 * (income - 45000)\n",
        "   elif 120001 < income < 180000:\n",
        "    tax_payable = 29467 + 0.37 * (income - 120000)\n",
        "   elif income > 180000:\n",
        "    tax_payable = 51667 + 0.45 * (income - 180000)\n",
        "    \n",
        "    return tax_payable\n",
        "   "
      ],
      "execution_count": null,
      "outputs": []
    },
    {
      "cell_type": "markdown",
      "metadata": {
        "id": "r8IvCNe0CfqR"
      },
      "source": [
        "# **Final step is to scrape the Yahoo Finance Table of Key Executives which includes the following columns:-**\n",
        "\n",
        "***1. Name of Key Executives.***\n",
        "\n",
        "***2. Title of Key Executives.***\n",
        "\n",
        "***3. Pay of Key Executives.***\n",
        "\n",
        "***4. Tax of Key Executives.***\n",
        "\n",
        "---\n",
        "\n",
        "\n",
        "\n",
        "\n",
        "\n",
        "\n",
        "###*NOTE: PANDAS Dataframe has been used to display table in an attractive way! \n",
        "\n",
        "##`Only Australian Companies stock ticker symbols are allowed. So, Please use '.AX' after the stock ticker symbol.. `"
      ]
    },
    {
      "cell_type": "code",
      "metadata": {
        "id": "MRAp_iE-Wq9w"
      },
      "source": [
        "# Get URL\n",
        "\n",
        "''' This will help to scrape the table of the stock ticker symbol input \n",
        "by the user and include tax column as well'''\n",
        "\n",
        "url = get_url()\n",
        "wd.get(url)\n",
        "soup = BeautifulSoup(wd.page_source, \"html.parser\")\n",
        "records = get_extract_records(soup)\n",
        "\n",
        "for record in records:\n",
        "  result = get_salary(record)\n",
        "  income_tax = calculate_tax(result)\n",
        "  record['tax'] = income_tax\n",
        "\n",
        "# Create a pandas dataframe \n",
        "\n",
        "execs_df = pd.DataFrame(records)\n",
        "execs_df\n"
      ],
      "execution_count": null,
      "outputs": []
    },
    {
      "cell_type": "markdown",
      "metadata": {
        "id": "kG15hl_5D-HS"
      },
      "source": [
        "# **Saving the Output Results:-**\n",
        "\n",
        "***1. CSV File***\n",
        "\n",
        "***2. Excel File***\n",
        "\n",
        "***3. Sqlite Database***\n",
        "\n",
        "\n",
        "---\n",
        "\n",
        "\n",
        "***The User can choose to save the data either in csv, excel or SQLite database or three of them together..***\n",
        "\n"
      ]
    },
    {
      "cell_type": "markdown",
      "metadata": {
        "id": "0w2uoZ_mRca1"
      },
      "source": [
        "**The User can save the output in CSV using the following cell:-**\n",
        "\n",
        "***We just need to import csv module for this which is already done in Step 1.***\n",
        "\n",
        "# ***1. Just run the cell using (Shift + Enter)***"
      ]
    },
    {
      "cell_type": "code",
      "metadata": {
        "id": "DDY89eyaCyLi"
      },
      "source": [
        "'''Saving the Income Tax of Key Executives in a csv and an excel file'''\n",
        "# Saving the output\n",
        "execs_df.to_csv('Key_Executives.csv')\n",
        "execs_df.to_excel('Key_Executives.xlsx')\n",
        "print('Saved the csv file, Please download it from files')"
      ],
      "execution_count": null,
      "outputs": []
    },
    {
      "cell_type": "markdown",
      "metadata": {
        "id": "bCkBo3hzex9r"
      },
      "source": [
        "# ***Giving an Option to the User to save the output in csv or Sqlite database form:-***\n",
        "\n",
        "\n",
        "*`The if and elif function have been used to provide an option to the User to choose if they want to store the output in csv file or Sqlite database file.`*\n",
        "\n",
        "## ***Pandas provide an option to save the files in csv form and sqlite form.***\n",
        "\n",
        "**Three Options have been created A, B and C.**\n",
        "\n",
        "***1.Option A = 'CSV File'***\n",
        "\n",
        "***2.Option B = 'SQLite Database***'\n",
        "\n",
        "\n",
        "\n",
        "\n",
        "\n",
        "***3.Option C = input(\"Please select A OR B options from above to store the output :\")***\n",
        "\n",
        "\n",
        "---\n",
        "\n",
        "\n",
        "\n",
        "\n",
        "**`if function is used saying if the User chooses Option C == 'A', Pandas dataframe will be converted to csv file and a message will pop up saying \"Please download csv file from the files folder\"`**.\n",
        "\n",
        " **`Further, elif the User chooses option C == 'B', sqlite3 will be import first. And a connection will be made between the sqlite3 (imported) with the database you want to create to store the income tax of Key Executives. A message will pop up saying that \"Please download database from the files\"!`**\n",
        "\n",
        "\n",
        "\n",
        "---\n",
        "\n",
        "\n",
        "\n",
        "---\n",
        "\n",
        "### **1. I am getting an error message for Sqlite if after saving database for one stock ticker symbol and I re run all the cells, I get an Value Error message saying that execs_df table already exists!**\n",
        "\n",
        "### **2. So, to resolve this issue I have to go to Edit Option and clear output for all the cells and And then go to Runtime and choose Factory Reset and run all cells again,then the database can be re saved!** "
      ]
    },
    {
      "cell_type": "code",
      "metadata": {
        "id": "krFLXIt4TZVx"
      },
      "source": [
        "execs_df = pd.DataFrame(records)\n",
        "execs_df.to_csv('Key_Executives.csv')\n",
        "print('Key_Executives.csv')\n",
        "A= 'CSV File' \n",
        "B= 'SQLite Database'\n",
        "C= input(\"Please select A OR B options from above to store the output :\")\n",
        "if C == 'A':\n",
        "  execs_df = pd.DataFrame(records)\n",
        "  execs_df.to_csv('Key_Executives.csv')\n",
        "  print('Key_Executives')\n",
        "  print(\"Please download CSV from the files\")\n",
        "elif C == 'B':\n",
        "  import sqlite3\n",
        "  conn = sqlite3.connect(\"Key_Executives.db\")\n",
        "  execs_df.to_sql('execs_df',conn)\n",
        "\n",
        "  print(\"Please download database from the files\")"
      ],
      "execution_count": null,
      "outputs": []
    },
    {
      "cell_type": "code",
      "metadata": {
        "id": "z_41D7C5XDOC"
      },
      "source": [
        "Name= pd.read_sql('SELECT * FROM execs_df', conn)\n",
        "Name.head()"
      ],
      "execution_count": null,
      "outputs": []
    },
    {
      "cell_type": "markdown",
      "metadata": {
        "id": "WojgIgyycz-h"
      },
      "source": [
        "# ***ALTERNATIVE CODE...***\n",
        "\n",
        "##**I tried this code (Reference from Stack Overflow) but it went quiet long! So, I skipped it due to lack of time...**\n",
        "\n",
        "***`Import OS (Os is operating system interface module of python to change file name or delete file once its downloaded in colab files)`***\n",
        "\n",
        "I was also getting confused with few steps, so I left it due to lack of time....\n",
        "\n"
      ]
    },
    {
      "cell_type": "code",
      "metadata": {
        "id": "9aaHP7wYcVuB"
      },
      "source": [
        "\n",
        "\n",
        "# Get URL\n",
        "\n",
        "''' This will help to scrape the table of the stock ticker symbol input \n",
        "by the user and include tax column as well'''\n",
        "\n",
        "url = get_url()\n",
        "wd.get(url)\n",
        "soup = BeautifulSoup(wd.page_source, \"html.parser\")\n",
        "records = get_extract_records(soup)\n",
        "\n",
        "for record in records:\n",
        "  result = get_salary(record)\n",
        "  income_tax = calculate_tax(result)\n",
        "  record['tax'] = income_tax\n",
        "\n",
        "# Create a pandas dataframe \n",
        "\n",
        "execs_df = pd.DataFrame(records)\n",
        "execs_df\n",
        "\n",
        "'''This is to save the output in csv or Sqlite database'''\n",
        "\n",
        "execs_df = pd.DataFrame(records)\n",
        "execs_df.to_csv('Key_Executives.csv')\n",
        "print('Key_Executives.csv')\n",
        "A= 'CSV File' \n",
        "B= 'SQLite Database'\n",
        "C= input(\"Please select A OR B options from above to store the output :\")\n",
        "if C == 'A':\n",
        "  execs_df = pd.DataFrame(records)\n",
        "  execs_df.to_csv('Key_Executives.csv')\n",
        "  print('Key_Executives')\n",
        "  print(\"Please download CSV from the files\")\n",
        "  file = 'Key_Executives.csv'\n",
        "  if(os.path.exists(file) and os.path.isfile(file)):\n",
        "    os.remove(file)\n",
        "  else:\n",
        "    print(\"file not found\")\n",
        "elif C == 'B':\n",
        "  import sqlite3\n",
        "  conn = sqlite3.connect(\"Key_Executives.db\")\n",
        "  cursor = conn.cursor()\n",
        "  query = \"\"\"\n",
        "  CREATE TABLE Executives (\n",
        "            name TEXT,\n",
        "            title TEXT,\n",
        "            Pay INTERGER,\n",
        "            Tax INTERGER\n",
        "        );\"\"\"\n",
        "  execs_df = pd.read_csv('Key_Executives.csv')\n",
        "  execs_df.to_sql('Executives', conn, if_exists='append', index=False)\n",
        "  print(\"Please download database from the files\")\n",
        "  import os\n",
        "  file = 'Key_Executives.csv'\n",
        "  if(os.path.exists(file) and os.path.isfile(file)):\n",
        "    os.remove(file)\n",
        "  else:\n",
        "    print(\"file not found\")\n",
        "else:\n",
        "  print(\"Select Correct Option\")\n",
        "  print(\"Displaying Database without Saving it into any file format\")\n",
        "print('Key_Executives')\n",
        "cursor.execute(\"SELECT * from Executives\")\n",
        "X=cursor.fetchall()\n",
        "dff=pd.DataFrame(X)\n",
        "dff.columns =['SERIAL No.', 'NAME','Title','Pay','Tax']\n",
        "dff.head()\n"
      ],
      "execution_count": null,
      "outputs": []
    },
    {
      "cell_type": "code",
      "metadata": {
        "id": "MXUGIJswl46Z"
      },
      "source": [
        ""
      ],
      "execution_count": null,
      "outputs": []
    }
  ]
}