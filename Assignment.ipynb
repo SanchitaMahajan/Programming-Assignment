{
  "nbformat": 4,
  "nbformat_minor": 0,
  "metadata": {
    "colab": {
      "name": "Assignment.ipynb",
      "provenance": [],
      "authorship_tag": "ABX9TyOP9KwO15bv9Icnbde6QQAY",
      "include_colab_link": true
    },
    "kernelspec": {
      "name": "python3",
      "display_name": "Python 3"
    },
    "language_info": {
      "name": "python"
    }
  },
  "cells": [
    {
      "cell_type": "markdown",
      "metadata": {
        "id": "view-in-github",
        "colab_type": "text"
      },
      "source": [
        "<a href=\"https://colab.research.google.com/github/SanchitaMahajan/Programming-Assignment/blob/main/Assignment.ipynb\" target=\"_parent\"><img src=\"https://colab.research.google.com/assets/colab-badge.svg\" alt=\"Open In Colab\"/></a>"
      ]
    },
    {
      "cell_type": "markdown",
      "metadata": {
        "id": "WgnKLtYL6B3m"
      },
      "source": [
        "#**ASSIGNMENT**\n",
        "\n",
        "##By Sanchita Mahajan (20467876)\n",
        "\n",
        "1. This notebook will prompt the user to input a company's stock market ticker symbol. \n",
        "2. It will then get the data from the Yahoo Finance website to extract information on the key of the company. \n",
        "3. Then the income tax will be calculated for each\n",
        "executive based on the ATO tax tables. \n",
        "4. The User can further choose if the data\n",
        "will be saved as a CSV and/or stored in an SQLite database.\n",
        "\n",
        "##***Here is the link of the Yahoo Finance WebPage:-***\n",
        "\n",
        "https://au.finance.yahoo.com/\n",
        "\n",
        "\n",
        "\n",
        "\n",
        "\n",
        "\n",
        "\n",
        "##***Here is the ATO tables based on which Income tax of all Key Executives will be calculated:-***\n",
        "\n",
        "\n",
        "[Resident tax rates 2021–22\n",
        "Taxable income](https://www.ato.gov.au/rates/individual-income-tax-rates/)\n",
        "\n",
        "Income            | Tax on this income \n",
        "------------------|----------------------\n",
        "0 – \\$18,200       | Nil\n",
        "\\$18,201 – \\$45,000 | 19 cents for each \\$1 over \\$18,200\n",
        "\\$45,001 – \\$120,000 | \\$5,092 plus 32.5 cents for each \\$1 over \\$45,000\n",
        "\\$120,001 – \\$180,000 |  \\$29,467 plus 37 cents for each \\$1 over \\$120,000\n",
        "\\$180,001 and over | \\$51,667 plus 45 cents for each \\$1 over \\$180,000"
      ]
    },
    {
      "cell_type": "markdown",
      "metadata": {
        "id": "9_7uKHSm6H79"
      },
      "source": [
        " # **Algorithm**\n",
        "\n",
        "*1. Firstly, The user has to input a valid ticker symbol.*\n",
        "\n",
        "*2. Ticker symbol will be used to extract Web page and scrape data of Key Executives of that Stock ticker.*\n",
        "\n",
        "*3. A function will be created to get the URL.*\n",
        "\n",
        "*4. Then a function will be created to extract cells data of each row.*\n",
        "\n",
        "*5. Finally, The function will be created to get salary of all key executives and calculate tax on the pay based on the ATO tables.* \n"
      ]
    },
    {
      "cell_type": "markdown",
      "metadata": {
        "id": "i2I1b_GhmE7I"
      },
      "source": [
        "# **User Instructions:-**\n",
        "***1. Please input a Valid stock ticker symbol.***\n",
        "\n",
        "***2.Only Australian companies are allowed to be searched.***\n",
        "\n",
        "***3.Kindly use '.AX' after the company names to search for stock ticker symbols.*** \n",
        "\n",
        "***4.Dont use Numbers and use only valid stock ticker symbols like NAB.AX, COL.AX and so on.***\n"
      ]
    },
    {
      "cell_type": "markdown",
      "metadata": {
        "id": "YfIa7aqy_6KP"
      },
      "source": [
        "# **First Step is to Install Unique Packages:-**\n",
        "***1. We have to install the following packages..***"
      ]
    },
    {
      "cell_type": "code",
      "metadata": {
        "id": "HW2hNCmvZmCq"
      },
      "source": [
        "# Install unique packages\n",
        "!pip install kora -q\n",
        "\n",
        "# load packages\n",
        "from bs4 import BeautifulSoup\n",
        "from kora.selenium import wd\n",
        "import pandas as pd\n",
        "import csv\n"
      ],
      "execution_count": 2,
      "outputs": []
    },
    {
      "cell_type": "markdown",
      "metadata": {
        "id": "uCyW8wZl_-vN"
      },
      "source": [
        "# **Second Step is to Create a function to get the URL:-**\n",
        "***1. The User has to input a stock ticker symbol..***\n",
        "\n",
        "***2. The function will then return the Webpage of the input Stock ticker by the user and provide details of the Key Executive of the Stock ticker company.***\n",
        "\n",
        "***3.The Input here is the stock ticker symbol which will get the URL of the profile table of the Yahoo Finance webpage.***\n",
        "\n",
        "\n",
        "\n",
        "---\n",
        "\n",
        "\n",
        "\n",
        "\n",
        "# **WORKING:-**\n",
        "\n",
        "After careful analysis we realised that:-\n",
        "\n",
        "**URL of NAB.AX:** https://au.finance.yahoo.com/quote/NAB.AX/profile?p=NAB.AX\n",
        "\n",
        "**URL of COL.AX:** https://au.finance.yahoo.com/quote/COL.AX/profile?p=COL.AX\n",
        "\n",
        "***The only difference is the name placement in the URL, therefore we can set up the URL in the following way:-***\n",
        "\n",
        "  **example_url**  = 'https://au.finance.yahoo.com/quote/{}/profile?p={}'\n",
        "\n",
        "  ***(We only have to input the stock ticker symbols in the Curly brackets{}..)***\n",
        "\n",
        "---\n",
        "\n",
        "\n",
        "\n",
        "##*So,the result URL will be:-*\n",
        "\n",
        "***example_url.format(ticker_symbol, ticker_symbol)*** \n",
        "\n"
      ]
    },
    {
      "cell_type": "code",
      "metadata": {
        "id": "dgp6ev-1Yo4w"
      },
      "source": [
        "def get_url():\n",
        "  '''This function will prompt the user to input a ticker symbol and get \n",
        "  the URL of the profile page'''\n",
        "  \n",
        "  ticker_symbol = input( \"Please input a ticker symbol \")\n",
        "  print(ticker_symbol)\n",
        "  example_url = 'https://au.finance.yahoo.com/quote/{}/profile?p={}'\n",
        "  result = example_url.format(ticker_symbol, ticker_symbol)\n",
        "  return result"
      ],
      "execution_count": 3,
      "outputs": []
    },
    {
      "cell_type": "markdown",
      "metadata": {
        "id": "lWSyYsPSAwgU"
      },
      "source": [
        "#**Third Step is to Create a function to get the Cells data of the generated table:-**\n",
        "\n",
        "***1. This function will return the Name, Title and Pay of all the Key Executives of the input stock ticker symbol company...***\n",
        "\n",
        "\n",
        "\n",
        "\n",
        "---\n",
        "\n",
        "# **Working:-**\n",
        "\n",
        "***1. Cells can be find using row.find_all('td') where ('td') is used to get the cells details.*** \n",
        "\n",
        "***2. For the Key Executives,We just need the Name, title and pay of the excecutives. So, accordingly we just need text of 1,2 and 3 cells.*** "
      ]
    },
    {
      "cell_type": "code",
      "metadata": {
        "id": "b6rhGdYm84yK"
      },
      "source": [
        "def get_cells_data(row):\n",
        "  ''' This function will get the data of the first cells(Name, Title, Pay \n",
        "  of the Key Executives''' \n",
        "  \n",
        "  cells = row.find_all('td')\n",
        "  name = cells[0].text\n",
        "  title = cells[1].text\n",
        "  pay = cells[2].text\n",
        "  return {'name': name, 'title': title,'pay': pay}\n",
        "  "
      ],
      "execution_count": 4,
      "outputs": []
    },
    {
      "cell_type": "markdown",
      "metadata": {
        "id": "LvUVqMENBTdf"
      },
      "source": [
        "# **Fourth Step is to Create a function to extract records of Key Executives of different ticker symbols:-**\n"
      ]
    },
    {
      "cell_type": "code",
      "metadata": {
        "id": "vIY7YgiC_oWn"
      },
      "source": [
        "def get_extract_records(soup):\n",
        "  '''This function will extract records of key executives of different \n",
        " ticker symbols'''\n",
        " \n",
        "  table = soup.find('table')\n",
        "  body = table.find('tbody')\n",
        "  rows = body.find_all('tr')\n",
        "  \n",
        "  extract_records = []\n",
        "  for row in rows:\n",
        "    result = get_cells_data(row)\n",
        "    extract_records.append(result)\n",
        "  return extract_records\n",
        "  "
      ],
      "execution_count": 5,
      "outputs": []
    },
    {
      "cell_type": "markdown",
      "metadata": {
        "id": "DHBflMzdBzsD"
      },
      "source": [
        "# **Fifth Step is to Create a function to get the salary of the Key Executives:-**"
      ]
    },
    {
      "cell_type": "code",
      "metadata": {
        "id": "dwd7-pf0Iff4"
      },
      "source": [
        "def get_salary(rec):\n",
        "  ''' This function will get the salary(pay) of the Key executives'''\n",
        "  \n",
        "  pay = rec['pay']\n",
        "  last_pay_character = pay[-1]\n",
        "  num_part = pay[0:-1]\n",
        "\n",
        "  if last_pay_character == 'M':\n",
        "    salary = float(num_part) * 1000000\n",
        "    #print(\"Millions\")\n",
        "  elif last_pay_character == 'k':\n",
        "    salary = float(num_part) * 1000\n",
        "    #print(\"Thousand\")\n",
        "  else:\n",
        "    salary = 0\n",
        "    #print(\"Not sure\")\n",
        "\n",
        "  return salary\n",
        "  "
      ],
      "execution_count": 6,
      "outputs": []
    },
    {
      "cell_type": "markdown",
      "metadata": {
        "id": "B8E_uKdrCFBO"
      },
      "source": [
        "# **Sixth Step is to Create a function to Calculate the Income tax(based on ATO table) on salary of the Key Executives:-**"
      ]
    },
    {
      "cell_type": "code",
      "metadata": {
        "id": "XLu-0YYFeI01"
      },
      "source": [
        "def calculate_tax(income):\n",
        "   ''' This function will calculate the tax (based on ATO table) \n",
        "   on salary(pay) of the Key executives'''\n",
        "   \n",
        "   if income <= 18200:\n",
        "    tax_payable = 0\n",
        "   elif 18200 < income <= 45000:\n",
        "    tax_payable = 0.19 * (income - 18200)\n",
        "   elif 45000 < income < 120000:\n",
        "    tax_payable = 5092 + 0.32 * (income - 45000)\n",
        "   elif 120001 < income < 180000:\n",
        "    tax_payable = 29467 + 0.37 * (income - 120000)\n",
        "   elif income > 180000:\n",
        "    tax_payable = 51667 + 0.45 * (income - 180000)\n",
        "\n",
        "\n",
        "   return tax_payable\n",
        "   "
      ],
      "execution_count": 7,
      "outputs": []
    },
    {
      "cell_type": "markdown",
      "metadata": {
        "id": "r8IvCNe0CfqR"
      },
      "source": [
        "# **Final step is to scrape the Yahoo Finance Table of Key Executives which includes the following columns:-**\n",
        "\n",
        "***1. Name of Key Executives.***\n",
        "\n",
        "***2. Title of Key Executives.***\n",
        "\n",
        "***3. Pay of Key Executives.***\n",
        "\n",
        "***4. Tax of Key Executives.***\n",
        "\n",
        "---\n",
        "\n",
        "\n",
        "\n",
        "\n",
        "\n",
        "\n",
        "###*NOTE: PANDAS Dataframe has been used to display table in an attractive way! "
      ]
    },
    {
      "cell_type": "code",
      "metadata": {
        "id": "MRAp_iE-Wq9w",
        "colab": {
          "base_uri": "https://localhost:8080/",
          "height": 393
        },
        "outputId": "bf63522a-26ba-4124-c08b-9411ec119a5b"
      },
      "source": [
        "# Get URL\n",
        "url = get_url()\n",
        "wd.get(url)\n",
        "soup = BeautifulSoup(wd.page_source, \"html.parser\")\n",
        "records = get_extract_records(soup)\n",
        "\n",
        "for record in records:\n",
        "  result = get_salary(record)\n",
        "  income_tax = calculate_tax(result)\n",
        "  record['tax'] = income_tax\n",
        "\n",
        "# creat a pandas datafrme (because recall in a earlier notebok a data frame is easy to save as csv)\n",
        "\n",
        "execs_df = pd.DataFrame.from_records(records)\n",
        "execs_df"
      ],
      "execution_count": 8,
      "outputs": [
        {
          "output_type": "stream",
          "name": "stdout",
          "text": [
            "Please input a ticker symbol NAB.AX\n",
            "NAB.AX\n"
          ]
        },
        {
          "output_type": "execute_result",
          "data": {
            "text/html": [
              "<div>\n",
              "<style scoped>\n",
              "    .dataframe tbody tr th:only-of-type {\n",
              "        vertical-align: middle;\n",
              "    }\n",
              "\n",
              "    .dataframe tbody tr th {\n",
              "        vertical-align: top;\n",
              "    }\n",
              "\n",
              "    .dataframe thead th {\n",
              "        text-align: right;\n",
              "    }\n",
              "</style>\n",
              "<table border=\"1\" class=\"dataframe\">\n",
              "  <thead>\n",
              "    <tr style=\"text-align: right;\">\n",
              "      <th></th>\n",
              "      <th>name</th>\n",
              "      <th>title</th>\n",
              "      <th>pay</th>\n",
              "      <th>tax</th>\n",
              "    </tr>\n",
              "  </thead>\n",
              "  <tbody>\n",
              "    <tr>\n",
              "      <th>0</th>\n",
              "      <td>Mr. Ross Maxwell McEwan CBE, B.B.S.</td>\n",
              "      <td>Group CEO, MD &amp; Director</td>\n",
              "      <td>2.54M</td>\n",
              "      <td>1113667.0</td>\n",
              "    </tr>\n",
              "    <tr>\n",
              "      <th>1</th>\n",
              "      <td>Mr. Gary Andrew Lennon BEC, F.C.A., BEc (Hons)...</td>\n",
              "      <td>Group Chief Financial Officer</td>\n",
              "      <td>1.13M</td>\n",
              "      <td>479167.0</td>\n",
              "    </tr>\n",
              "    <tr>\n",
              "      <th>2</th>\n",
              "      <td>Mr. Patrick F. Wright</td>\n",
              "      <td>Group Exec. of Technology &amp; Enterprise Operations</td>\n",
              "      <td>1.72M</td>\n",
              "      <td>744667.0</td>\n",
              "    </tr>\n",
              "    <tr>\n",
              "      <th>3</th>\n",
              "      <td>Ms. Sharon J. Cook</td>\n",
              "      <td>Group Exec. of Legal &amp; Commercial Services</td>\n",
              "      <td>912.98k</td>\n",
              "      <td>381508.0</td>\n",
              "    </tr>\n",
              "    <tr>\n",
              "      <th>4</th>\n",
              "      <td>Ms. Susan  Ferrier</td>\n",
              "      <td>Group Exec. of People &amp; Culture</td>\n",
              "      <td>929.27k</td>\n",
              "      <td>388838.5</td>\n",
              "    </tr>\n",
              "    <tr>\n",
              "      <th>5</th>\n",
              "      <td>Ms. Angela  Mentis B.Bus</td>\n",
              "      <td>Group Chief Digital, Data &amp; Analytics Officer</td>\n",
              "      <td>1.62M</td>\n",
              "      <td>699667.0</td>\n",
              "    </tr>\n",
              "    <tr>\n",
              "      <th>6</th>\n",
              "      <td>Mr. Shaun  Dooley</td>\n",
              "      <td>Chief Risk Officer</td>\n",
              "      <td>1.05M</td>\n",
              "      <td>443167.0</td>\n",
              "    </tr>\n",
              "    <tr>\n",
              "      <th>7</th>\n",
              "      <td>Mr. Andrew  Irvine</td>\n",
              "      <td>Chief Exec. of Bus. Private Banking Division</td>\n",
              "      <td>333.27k</td>\n",
              "      <td>120638.5</td>\n",
              "    </tr>\n",
              "    <tr>\n",
              "      <th>8</th>\n",
              "      <td>Mr. Lesile D. Matheson</td>\n",
              "      <td>Group Chief Operating Officer</td>\n",
              "      <td>N/A</td>\n",
              "      <td>0.0</td>\n",
              "    </tr>\n",
              "    <tr>\n",
              "      <th>9</th>\n",
              "      <td>Ms. Sally  Mihell</td>\n",
              "      <td>Head of Investor Relations</td>\n",
              "      <td>N/A</td>\n",
              "      <td>0.0</td>\n",
              "    </tr>\n",
              "  </tbody>\n",
              "</table>\n",
              "</div>"
            ],
            "text/plain": [
              "                                                name  ...        tax\n",
              "0                Mr. Ross Maxwell McEwan CBE, B.B.S.  ...  1113667.0\n",
              "1  Mr. Gary Andrew Lennon BEC, F.C.A., BEc (Hons)...  ...   479167.0\n",
              "2                              Mr. Patrick F. Wright  ...   744667.0\n",
              "3                                 Ms. Sharon J. Cook  ...   381508.0\n",
              "4                                 Ms. Susan  Ferrier  ...   388838.5\n",
              "5                           Ms. Angela  Mentis B.Bus  ...   699667.0\n",
              "6                                  Mr. Shaun  Dooley  ...   443167.0\n",
              "7                                 Mr. Andrew  Irvine  ...   120638.5\n",
              "8                             Mr. Lesile D. Matheson  ...        0.0\n",
              "9                                  Ms. Sally  Mihell  ...        0.0\n",
              "\n",
              "[10 rows x 4 columns]"
            ]
          },
          "metadata": {},
          "execution_count": 8
        }
      ]
    },
    {
      "cell_type": "markdown",
      "metadata": {
        "id": "kG15hl_5D-HS"
      },
      "source": [
        "# **Saving the Output Results:-**\n",
        "\n",
        "***1. CSV File***\n",
        "\n",
        "***2. Excel File***\n",
        "\n",
        "***3. Sqlite Database***\n",
        "\n",
        "\n",
        "---\n",
        "\n",
        "\n",
        "***The User can choose to save the data either in csv, excel or SQLite database or three of them together..***\n",
        "\n"
      ]
    },
    {
      "cell_type": "code",
      "metadata": {
        "id": "K9xMpd3GETpp",
        "colab": {
          "base_uri": "https://localhost:8080/"
        },
        "outputId": "da664726-5cdd-4cdc-bce6-76c471162ed9"
      },
      "source": [
        "'''Saving the Income Tax of Key Executives in a csv and an excel file'''\n",
        "# Saving the output\n",
        "execs_df.to_csv('Key_Executives.csv')\n",
        "execs_df.to_excel('Key_Executives.xlsx')\n",
        "print('Saved to file')"
      ],
      "execution_count": 9,
      "outputs": [
        {
          "output_type": "stream",
          "name": "stdout",
          "text": [
            "Saved to file\n"
          ]
        }
      ]
    },
    {
      "cell_type": "code",
      "metadata": {
        "id": "edrijiIFMNPp"
      },
      "source": [
        "#Saving the Income tax of Key Executives to SQLite Database using pandas dataframe..\n",
        "import sqlite3\n",
        "conn = sqlite3.connect(\"Key_Executives.db\")\n",
        "execs_df.to_sql('execs_df',conn)"
      ],
      "execution_count": 10,
      "outputs": []
    },
    {
      "cell_type": "code",
      "metadata": {
        "id": "zAkMbm1cNAKw",
        "outputId": "6c83d567-31d6-4b5c-8e79-1d2fffc6031a",
        "colab": {
          "base_uri": "https://localhost:8080/",
          "height": 204
        }
      },
      "source": [
        "Name= pd.read_sql('SELECT * FROM execs_df', conn)\n",
        "Name.head()"
      ],
      "execution_count": 11,
      "outputs": [
        {
          "output_type": "execute_result",
          "data": {
            "text/html": [
              "<div>\n",
              "<style scoped>\n",
              "    .dataframe tbody tr th:only-of-type {\n",
              "        vertical-align: middle;\n",
              "    }\n",
              "\n",
              "    .dataframe tbody tr th {\n",
              "        vertical-align: top;\n",
              "    }\n",
              "\n",
              "    .dataframe thead th {\n",
              "        text-align: right;\n",
              "    }\n",
              "</style>\n",
              "<table border=\"1\" class=\"dataframe\">\n",
              "  <thead>\n",
              "    <tr style=\"text-align: right;\">\n",
              "      <th></th>\n",
              "      <th>index</th>\n",
              "      <th>name</th>\n",
              "      <th>title</th>\n",
              "      <th>pay</th>\n",
              "      <th>tax</th>\n",
              "    </tr>\n",
              "  </thead>\n",
              "  <tbody>\n",
              "    <tr>\n",
              "      <th>0</th>\n",
              "      <td>0</td>\n",
              "      <td>Mr. Ross Maxwell McEwan CBE, B.B.S.</td>\n",
              "      <td>Group CEO, MD &amp; Director</td>\n",
              "      <td>2.54M</td>\n",
              "      <td>1113667.0</td>\n",
              "    </tr>\n",
              "    <tr>\n",
              "      <th>1</th>\n",
              "      <td>1</td>\n",
              "      <td>Mr. Gary Andrew Lennon BEC, F.C.A., BEc (Hons)...</td>\n",
              "      <td>Group Chief Financial Officer</td>\n",
              "      <td>1.13M</td>\n",
              "      <td>479167.0</td>\n",
              "    </tr>\n",
              "    <tr>\n",
              "      <th>2</th>\n",
              "      <td>2</td>\n",
              "      <td>Mr. Patrick F. Wright</td>\n",
              "      <td>Group Exec. of Technology &amp; Enterprise Operations</td>\n",
              "      <td>1.72M</td>\n",
              "      <td>744667.0</td>\n",
              "    </tr>\n",
              "    <tr>\n",
              "      <th>3</th>\n",
              "      <td>3</td>\n",
              "      <td>Ms. Sharon J. Cook</td>\n",
              "      <td>Group Exec. of Legal &amp; Commercial Services</td>\n",
              "      <td>912.98k</td>\n",
              "      <td>381508.0</td>\n",
              "    </tr>\n",
              "    <tr>\n",
              "      <th>4</th>\n",
              "      <td>4</td>\n",
              "      <td>Ms. Susan  Ferrier</td>\n",
              "      <td>Group Exec. of People &amp; Culture</td>\n",
              "      <td>929.27k</td>\n",
              "      <td>388838.5</td>\n",
              "    </tr>\n",
              "  </tbody>\n",
              "</table>\n",
              "</div>"
            ],
            "text/plain": [
              "   index                                               name  ...      pay        tax\n",
              "0      0                Mr. Ross Maxwell McEwan CBE, B.B.S.  ...    2.54M  1113667.0\n",
              "1      1  Mr. Gary Andrew Lennon BEC, F.C.A., BEc (Hons)...  ...    1.13M   479167.0\n",
              "2      2                              Mr. Patrick F. Wright  ...    1.72M   744667.0\n",
              "3      3                                 Ms. Sharon J. Cook  ...  912.98k   381508.0\n",
              "4      4                                 Ms. Susan  Ferrier  ...  929.27k   388838.5\n",
              "\n",
              "[5 rows x 5 columns]"
            ]
          },
          "metadata": {},
          "execution_count": 11
        }
      ]
    },
    {
      "cell_type": "code",
      "metadata": {
        "id": "MBSsPWY6Nwim"
      },
      "source": [
        ""
      ],
      "execution_count": null,
      "outputs": []
    }
  ]
}