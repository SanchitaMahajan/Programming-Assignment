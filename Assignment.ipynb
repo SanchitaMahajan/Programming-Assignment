{
  "nbformat": 4,
  "nbformat_minor": 0,
  "metadata": {
    "colab": {
      "name": "Assignment.ipynb",
      "provenance": [],
      "authorship_tag": "ABX9TyMnhRbSYuVJm3+pVj4/6UcI",
      "include_colab_link": true
    },
    "kernelspec": {
      "name": "python3",
      "display_name": "Python 3"
    },
    "language_info": {
      "name": "python"
    }
  },
  "cells": [
    {
      "cell_type": "markdown",
      "metadata": {
        "id": "view-in-github",
        "colab_type": "text"
      },
      "source": [
        "<a href=\"https://colab.research.google.com/github/SanchitaMahajan/Programming-Assignment/blob/main/Assignment.ipynb\" target=\"_parent\"><img src=\"https://colab.research.google.com/assets/colab-badge.svg\" alt=\"Open In Colab\"/></a>"
      ]
    },
    {
      "cell_type": "markdown",
      "metadata": {
        "id": "WgnKLtYL6B3m"
      },
      "source": [
        "#**ASSIGNMENT**\n",
        "\n",
        "##By Sanchita Mahajan (20467876)\n",
        "\n",
        "1. This notebook will prompt the user to input a company's stock market ticker symbol. \n",
        "2. It will then get the data from the Yahoo Finance website to extract information on the key of the company. \n",
        "3. Then the income tax will be calculated for each\n",
        "executive based on the ATO tax tables. \n",
        "4. The User can further choose if the data\n",
        "will be saved as a CSV and/or stored in an SQLite database.\n",
        "\n",
        "##***Here is the link of the Yahoo Finance WebPage:-***\n",
        "\n",
        "https://au.finance.yahoo.com/\n",
        "\n",
        "\n",
        "\n",
        "\n",
        "\n",
        "\n",
        "\n",
        "##***Here is the ATO tables based on which Income tax of all Key Executives will be calculated:-***\n",
        "\n",
        "\n",
        "[Resident tax rates 2021–22\n",
        "Taxable income](https://www.ato.gov.au/rates/individual-income-tax-rates/)\n",
        "\n",
        "Income            | Tax on this income \n",
        "------------------|----------------------\n",
        "0 – \\$18,200       | Nil\n",
        "\\$18,201 – \\$45,000 | 19 cents for each \\$1 over \\$18,200\n",
        "\\$45,001 – \\$120,000 | \\$5,092 plus 32.5 cents for each \\$1 over \\$45,000\n",
        "\\$120,001 – \\$180,000 |  \\$29,467 plus 37 cents for each \\$1 over \\$120,000\n",
        "\\$180,001 and over | \\$51,667 plus 45 cents for each \\$1 over \\$180,000"
      ]
    },
    {
      "cell_type": "markdown",
      "metadata": {
        "id": "9_7uKHSm6H79"
      },
      "source": [
        " # **Algorithm**\n",
        "\n",
        "*1. Firstly, The user has to input a valid ticker symbol **(Only Australian Companies are allowed to search, use '.AX')**.*\n",
        "\n",
        "*2. Ticker symbol will be used to extract Web page and scrape data of Key Executives.*\n",
        "\n",
        "*3. A function will be created to get the URL.*\n",
        "\n",
        "*4. Then a function will be created to extract cells data of each row.*\n",
        "\n",
        "*5. Finally, The function will be created to get salary of all key executives and calculate tax on the pay based on the ATO tables.* \n"
      ]
    },
    {
      "cell_type": "markdown",
      "metadata": {
        "id": "i2I1b_GhmE7I"
      },
      "source": [
        "# **User Instructions:-**\n",
        "***1. Please input a Valid stock ticker symbol.***\n",
        "\n",
        "***2.Only Australian companies are allowed to be searched.***\n",
        "\n",
        "***3.Kindly use '.AX' after the company names to search for stock ticker symbols.*** \n",
        "\n",
        "***4.Dont use Numbers and use only valid stock ticker symbols like NAB.AX, COL.AX, ANZ.AX , CBA.AX and so on.***\n"
      ]
    },
    {
      "cell_type": "markdown",
      "metadata": {
        "id": "YfIa7aqy_6KP"
      },
      "source": [
        "# **First Step is to Install Unique Packages:-**\n",
        "***1. We have to install the following packages..***"
      ]
    },
    {
      "cell_type": "code",
      "metadata": {
        "id": "HW2hNCmvZmCq",
        "colab": {
          "base_uri": "https://localhost:8080/"
        },
        "outputId": "8937f5f2-b257-4279-d886-9729e7ef301e"
      },
      "source": [
        "# Install unique packages\n",
        "!pip install kora -q\n",
        "\n",
        "# load packages\n",
        "from bs4 import BeautifulSoup\n",
        "from kora.selenium import wd\n",
        "import pandas as pd\n",
        "import csv\n",
        "import ipywidgets as widgets\n"
      ],
      "execution_count": 1,
      "outputs": [
        {
          "output_type": "stream",
          "name": "stdout",
          "text": [
            "\u001b[?25l\r\u001b[K     |█████▊                          | 10 kB 17.6 MB/s eta 0:00:01\r\u001b[K     |███████████▍                    | 20 kB 21.7 MB/s eta 0:00:01\r\u001b[K     |█████████████████               | 30 kB 26.7 MB/s eta 0:00:01\r\u001b[K     |██████████████████████▊         | 40 kB 29.7 MB/s eta 0:00:01\r\u001b[K     |████████████████████████████▍   | 51 kB 10.5 MB/s eta 0:00:01\r\u001b[K     |████████████████████████████████| 57 kB 2.8 MB/s \n",
            "\u001b[?25h\u001b[?25l\r\u001b[K     |█████▉                          | 10 kB 24.6 MB/s eta 0:00:01\r\u001b[K     |███████████▊                    | 20 kB 33.2 MB/s eta 0:00:01\r\u001b[K     |█████████████████▌              | 30 kB 38.2 MB/s eta 0:00:01\r\u001b[K     |███████████████████████▍        | 40 kB 42.8 MB/s eta 0:00:01\r\u001b[K     |█████████████████████████████▎  | 51 kB 47.1 MB/s eta 0:00:01\r\u001b[K     |████████████████████████████████| 56 kB 2.9 MB/s \n",
            "\u001b[?25h"
          ]
        }
      ]
    },
    {
      "cell_type": "markdown",
      "metadata": {
        "id": "uCyW8wZl_-vN"
      },
      "source": [
        "# **Second Step is to Create a function to get the URL:-**\n",
        "***1. The User has to input a stock ticker symbol..***\n",
        "\n",
        "***2. The function will then return the Webpage of the input Stock ticker provided by the user and provide details of the Key Executive of the Stock ticker company.***\n",
        "\n",
        "***3.The Input here is the stock ticker symbol which will get the URL of the profile table of the Yahoo Finance webpage.***\n",
        "\n",
        "\n",
        "\n",
        "---\n",
        "\n",
        "\n",
        "\n",
        "\n",
        "# **WORKING:-**\n",
        "\n",
        "After careful analysis we realised that:-\n",
        "\n",
        "**URL of NAB.AX:** https://au.finance.yahoo.com/quote/NAB.AX/profile?p=NAB.AX\n",
        "\n",
        "**URL of COL.AX:** https://au.finance.yahoo.com/quote/COL.AX/profile?p=COL.AX\n",
        "\n",
        "***The only difference is the name placement in the URL, therefore we can set up the URL in the following way:-***\n",
        "\n",
        "  **example_url**  = 'https://au.finance.yahoo.com/quote/{}/profile?p={}'\n",
        "\n",
        "  ***(We only have to input the stock ticker symbols in the Curly brackets{}..)***\n",
        "\n",
        "---\n",
        "\n",
        "\n",
        "\n",
        "##*So,the result URL will be:-*\n",
        "\n",
        "***example_url.format(ticker_symbol, ticker_symbol)*** \n",
        "\n"
      ]
    },
    {
      "cell_type": "code",
      "metadata": {
        "id": "dgp6ev-1Yo4w"
      },
      "source": [
        "def get_url():\n",
        "  '''This function will prompt the user to input a ticker symbol and get \n",
        "  the URL of the profile page'''\n",
        "  \n",
        "  ticker_symbol = input( \"Please input a ticker symbol \")\n",
        "  print(ticker_symbol)\n",
        "  example_url = 'https://au.finance.yahoo.com/quote/{}/profile?p={}'\n",
        "  result = example_url.format(ticker_symbol, ticker_symbol)\n",
        "  return result\n"
      ],
      "execution_count": 2,
      "outputs": []
    },
    {
      "cell_type": "markdown",
      "metadata": {
        "id": "lWSyYsPSAwgU"
      },
      "source": [
        "#**Third Step is to Create a function to get the Cells data of the generated table:-**\n",
        "\n",
        "***1. This function will return the Name, Title and Pay of all the Key Executives of the input stock ticker symbol company...***\n",
        "\n",
        "\n",
        "\n",
        "\n",
        "---\n",
        "\n",
        "# **Working:-**\n",
        "\n",
        "***1. Cells can be find using row.find_all('td') where ('td') is used to get the cells details.*** \n",
        "\n",
        "***2. For the Key Executives,We just need the Name, title and pay of the excecutives. So, accordingly we just need text of 1,2 and 3 cells.*** "
      ]
    },
    {
      "cell_type": "code",
      "metadata": {
        "id": "b6rhGdYm84yK"
      },
      "source": [
        "def get_cells_data(row):\n",
        "  ''' This function will get the data of the first cells(Name, Title, Pay \n",
        "  of the Key Executives''' \n",
        "  \n",
        "  cells = row.find_all('td')\n",
        "  name = cells[0].text\n",
        "  title = cells[1].text\n",
        "  pay = cells[2].text\n",
        "  return {'name': name, 'title': title,'pay': pay}\n",
        "  "
      ],
      "execution_count": 3,
      "outputs": []
    },
    {
      "cell_type": "markdown",
      "metadata": {
        "id": "LvUVqMENBTdf"
      },
      "source": [
        "# **Fourth Step is to Create a function to extract records of Key Executives of different ticker symbols:-**\n",
        "\n",
        "---\n",
        "\n",
        "\n",
        "\n",
        "# **Working:-**\n",
        "\n",
        "***1. Table will be found using the soup.find('table).***\n",
        "\n",
        "**2. Further table body will be found using table.find('tbody').**\n",
        "\n",
        "**3. Atlast rows data will be extracted using body.find_all('tr').**   \n",
        "\n",
        "**4. Result can be extracted using get_cells_data(row) where get_cells_data function was used to extract details of the first 3 cells of the rows (Name, Title and Pay).**\n",
        "\n",
        "**5.Atlast this function will return the records of all the rows of the stock ticker symbol.**\n"
      ]
    },
    {
      "cell_type": "code",
      "metadata": {
        "id": "vIY7YgiC_oWn"
      },
      "source": [
        "def get_extract_records(soup):\n",
        "  '''This function will extract records of key executives of different \n",
        " ticker symbols'''\n",
        " \n",
        "  table = soup.find('table')\n",
        "  body = table.find('tbody')\n",
        "  rows = body.find_all('tr')\n",
        "  \n",
        "  extract_records = []\n",
        "  for row in rows:\n",
        "    result = get_cells_data(row)\n",
        "    extract_records.append(result)\n",
        "  return extract_records\n",
        "  "
      ],
      "execution_count": 4,
      "outputs": []
    },
    {
      "cell_type": "markdown",
      "metadata": {
        "id": "DHBflMzdBzsD"
      },
      "source": [
        "# **Fifth Step is to Create a function to get the salary of the Key Executives:-**\n",
        "\n",
        "This function will help to extract the salary of all the Key Executives from the table.\n",
        "\n",
        "---\n",
        "\n",
        "\n",
        "\n",
        "# **Working:-**\n",
        "\n",
        "**1.After careful analysis,We saw that the pay of each executive is shown as 2.38M,9.988K and N/A and so on...**\n",
        "\n",
        "\n",
        "**2.But to calculate the salary, we need to remove the (M, k) and convert the salary in AUD by multiplying the given figures with:-**\n",
        "\n",
        "`(Pay*1000000), In case of M (millions)` \n",
        "\n",
        "`(Pay*1000), In case of K (thousands)`\n",
        "\n",
        "**3.So, for this, the last pay character needs to be removed, by using the following:-**\n",
        "\n",
        "`last_pay_character = pay[-1]`\n",
        "\n",
        "**4.And to calculate the num_part if function is used saying if the last character of pay is 'M' then,** \n",
        "\n",
        "`salary = float(num_part) * 1000000`\n",
        "    \n",
        "  `elif last_pay_character == 'k':`\n",
        "  \n",
        "    salary = float(num_part) * 1000\n",
        "  \n",
        "  `else:`\n",
        "\n",
        "   `salary = 0 (N/A)`\n",
        "\n",
        "\n",
        "\n",
        "\n",
        "\n",
        "***This function will return the salary of all the executives in AUD....***\n",
        "  \n"
      ]
    },
    {
      "cell_type": "code",
      "metadata": {
        "id": "dwd7-pf0Iff4"
      },
      "source": [
        "def get_salary(rec):\n",
        "  ''' This function will get the salary(pay) of the Key executives'''\n",
        "  \n",
        "  pay = rec['pay']\n",
        "  last_pay_character = pay[-1]\n",
        "  num_part = pay[0:-1]\n",
        "\n",
        "  if last_pay_character == 'M':\n",
        "    salary = float(num_part) * 1000000\n",
        "    #print(\"Millions\")\n",
        "  elif last_pay_character == 'k':\n",
        "    salary = float(num_part) * 1000\n",
        "    #print(\"Thousand\")\n",
        "  else:\n",
        "    salary = 0\n",
        "    #print(\"Not sure\")\n",
        "\n",
        "  return salary\n",
        "  "
      ],
      "execution_count": 5,
      "outputs": []
    },
    {
      "cell_type": "markdown",
      "metadata": {
        "id": "B8E_uKdrCFBO"
      },
      "source": [
        "# **Sixth Step is to Create a function to Calculate the Income tax(based on ATO table) on salary of the Key Executives:-**\n",
        "\n",
        "***1.This function will help in calculating the tax on the salaries of the key executives.***\n",
        "\n",
        "***2.Income will be calculated based on ATO Tables:-***\n",
        "\n",
        "`If income <= 18200, there will be zero tax`\n",
        "\n",
        "`elif 18200<income<45000, tax will be calculated based on 0.19 8* (income - 18200)`\n",
        "\n",
        "` elif 45000 < income < 120000, tax will be calculated based on 5092 + 0.32 * (income - 45000)`\n",
        "\n",
        "`elif 120001 < income < 180000, tax will be calculated based on 29467 + 0.37 * (income - 120000)` \n",
        "   \n",
        "`elif income > 180000,tax will be calculated based on 51667 + 0.45 * (income - 180000)`\n",
        "\n",
        "***This function will return the tax payable by all key executives.***\n",
        "\n",
        "\n"
      ]
    },
    {
      "cell_type": "code",
      "metadata": {
        "id": "XLu-0YYFeI01"
      },
      "source": [
        "def calculate_tax(income):\n",
        "   ''' This function will calculate the tax (based on ATO table) \n",
        "   on salary(pay) of the Key executives'''\n",
        "   \n",
        "   if income <= 18200:\n",
        "    tax_payable = 0\n",
        "   elif 18200 < income <= 45000:\n",
        "    tax_payable = 0.19 * (income - 18200)\n",
        "   elif 45000 < income < 120000:\n",
        "    tax_payable = 5092 + 0.32 * (income - 45000)\n",
        "   elif 120001 < income < 180000:\n",
        "    tax_payable = 29467 + 0.37 * (income - 120000)\n",
        "   elif income > 180000:\n",
        "    tax_payable = 51667 + 0.45 * (income - 180000)\n",
        "    \n",
        "    return tax_payable\n",
        "   "
      ],
      "execution_count": 6,
      "outputs": []
    },
    {
      "cell_type": "markdown",
      "metadata": {
        "id": "r8IvCNe0CfqR"
      },
      "source": [
        "# **Final step is to scrape the Yahoo Finance Table of Key Executives which includes the following columns:-**\n",
        "\n",
        "***1. Name of Key Executives.***\n",
        "\n",
        "***2. Title of Key Executives.***\n",
        "\n",
        "***3. Pay of Key Executives.***\n",
        "\n",
        "***4. Tax of Key Executives.***\n",
        "\n",
        "---\n",
        "\n",
        "\n",
        "\n",
        "\n",
        "\n",
        "\n",
        "###*NOTE: PANDAS Dataframe has been used to display table in an attractive way! "
      ]
    },
    {
      "cell_type": "code",
      "metadata": {
        "id": "MRAp_iE-Wq9w",
        "colab": {
          "base_uri": "https://localhost:8080/",
          "height": 393
        },
        "outputId": "073c54d7-57c8-4323-bfe1-4802f1a36909"
      },
      "source": [
        "# Get URL\n",
        "\n",
        "''' This will help to scrape the table of the stock ticker symbol input \n",
        "by the user and include tax column as well'''\n",
        "\n",
        "url = get_url()\n",
        "wd.get(url)\n",
        "soup = BeautifulSoup(wd.page_source, \"html.parser\")\n",
        "records = get_extract_records(soup)\n",
        "\n",
        "for record in records:\n",
        "  result = get_salary(record)\n",
        "  income_tax = calculate_tax(result)\n",
        "  record['tax'] = income_tax\n",
        "\n",
        "# Create a pandas dataframe \n",
        "\n",
        "execs_df = pd.DataFrame(records)\n",
        "execs_df\n"
      ],
      "execution_count": 7,
      "outputs": [
        {
          "output_type": "stream",
          "name": "stdout",
          "text": [
            "Please input a ticker symbol ANZ.AX\n",
            "ANZ.AX\n"
          ]
        },
        {
          "output_type": "execute_result",
          "data": {
            "text/html": [
              "<div>\n",
              "<style scoped>\n",
              "    .dataframe tbody tr th:only-of-type {\n",
              "        vertical-align: middle;\n",
              "    }\n",
              "\n",
              "    .dataframe tbody tr th {\n",
              "        vertical-align: top;\n",
              "    }\n",
              "\n",
              "    .dataframe thead th {\n",
              "        text-align: right;\n",
              "    }\n",
              "</style>\n",
              "<table border=\"1\" class=\"dataframe\">\n",
              "  <thead>\n",
              "    <tr style=\"text-align: right;\">\n",
              "      <th></th>\n",
              "      <th>name</th>\n",
              "      <th>title</th>\n",
              "      <th>pay</th>\n",
              "      <th>tax</th>\n",
              "    </tr>\n",
              "  </thead>\n",
              "  <tbody>\n",
              "    <tr>\n",
              "      <th>0</th>\n",
              "      <td>Mr. Shayne Cary Elliott B.Com., B.Com</td>\n",
              "      <td>MD, CEO &amp; Exec. Director</td>\n",
              "      <td>3.24M</td>\n",
              "      <td>1428667.0</td>\n",
              "    </tr>\n",
              "    <tr>\n",
              "      <th>1</th>\n",
              "      <td>Mr. Mark  Whelan</td>\n",
              "      <td>Group Exec. of Institutional</td>\n",
              "      <td>1.59M</td>\n",
              "      <td>686167.0</td>\n",
              "    </tr>\n",
              "    <tr>\n",
              "      <th>2</th>\n",
              "      <td>Mr. Mark  Hand</td>\n",
              "      <td>Group Exec. Australia Retail &amp; Commercial Banking</td>\n",
              "      <td>1.81M</td>\n",
              "      <td>785167.0</td>\n",
              "    </tr>\n",
              "    <tr>\n",
              "      <th>3</th>\n",
              "      <td>Ms. Maile Katherine Carnegie</td>\n",
              "      <td>Group Exec. of Digital &amp; Australia Transformation</td>\n",
              "      <td>1.66M</td>\n",
              "      <td>717667.0</td>\n",
              "    </tr>\n",
              "    <tr>\n",
              "      <th>4</th>\n",
              "      <td>Mr. Kevin Paul Corbally</td>\n",
              "      <td>Group Chief Risk Officer</td>\n",
              "      <td>1.57M</td>\n",
              "      <td>677167.0</td>\n",
              "    </tr>\n",
              "    <tr>\n",
              "      <th>5</th>\n",
              "      <td>Mr. Gerard  Florian</td>\n",
              "      <td>Group Exec. of Technology</td>\n",
              "      <td>1.49M</td>\n",
              "      <td>641167.0</td>\n",
              "    </tr>\n",
              "    <tr>\n",
              "      <th>6</th>\n",
              "      <td>Ms. Kathryn  van der Merwe</td>\n",
              "      <td>Group Exec. of Talent &amp; Culture and Service Ce...</td>\n",
              "      <td>1.21M</td>\n",
              "      <td>515167.0</td>\n",
              "    </tr>\n",
              "    <tr>\n",
              "      <th>7</th>\n",
              "      <td>Ms. Antonia Margaret Watson B.Com.</td>\n",
              "      <td>Chief Exec. Officer of New Zealand</td>\n",
              "      <td>1.38M</td>\n",
              "      <td>591667.0</td>\n",
              "    </tr>\n",
              "    <tr>\n",
              "      <th>8</th>\n",
              "      <td>Mr. Farhan  Faruqui</td>\n",
              "      <td>Chief Financial Officer</td>\n",
              "      <td>N/A</td>\n",
              "      <td>NaN</td>\n",
              "    </tr>\n",
              "    <tr>\n",
              "      <th>9</th>\n",
              "      <td>Mr. Craig Lioneln Sims MBA</td>\n",
              "      <td>Group Gen. Mang. of Operations &amp; Services</td>\n",
              "      <td>N/A</td>\n",
              "      <td>NaN</td>\n",
              "    </tr>\n",
              "  </tbody>\n",
              "</table>\n",
              "</div>"
            ],
            "text/plain": [
              "                                    name  ...        tax\n",
              "0  Mr. Shayne Cary Elliott B.Com., B.Com  ...  1428667.0\n",
              "1                       Mr. Mark  Whelan  ...   686167.0\n",
              "2                         Mr. Mark  Hand  ...   785167.0\n",
              "3           Ms. Maile Katherine Carnegie  ...   717667.0\n",
              "4                Mr. Kevin Paul Corbally  ...   677167.0\n",
              "5                    Mr. Gerard  Florian  ...   641167.0\n",
              "6             Ms. Kathryn  van der Merwe  ...   515167.0\n",
              "7     Ms. Antonia Margaret Watson B.Com.  ...   591667.0\n",
              "8                    Mr. Farhan  Faruqui  ...        NaN\n",
              "9             Mr. Craig Lioneln Sims MBA  ...        NaN\n",
              "\n",
              "[10 rows x 4 columns]"
            ]
          },
          "metadata": {},
          "execution_count": 7
        }
      ]
    },
    {
      "cell_type": "markdown",
      "metadata": {
        "id": "kG15hl_5D-HS"
      },
      "source": [
        "# **Saving the Output Results:-**\n",
        "\n",
        "***1. CSV File***\n",
        "\n",
        "***2. Excel File***\n",
        "\n",
        "***3. Sqlite Database***\n",
        "\n",
        "\n",
        "---\n",
        "\n",
        "\n",
        "***The User can choose to save the data either in csv, excel or SQLite database or three of them together..***\n",
        "\n"
      ]
    },
    {
      "cell_type": "markdown",
      "metadata": {
        "id": "0w2uoZ_mRca1"
      },
      "source": [
        "**The User can save the output in CSV using the following cell:-**\n",
        "\n",
        "***We just need to import csv module for this which is already done in Step 1.***\n",
        "\n",
        "# ***1. Just run the cell using (Shift + Enter)***"
      ]
    },
    {
      "cell_type": "code",
      "metadata": {
        "colab": {
          "base_uri": "https://localhost:8080/"
        },
        "id": "DDY89eyaCyLi",
        "outputId": "6475c96c-f4da-47e9-885e-e22a81d81409"
      },
      "source": [
        "'''Saving the Income Tax of Key Executives in a csv and an excel file'''\n",
        "# Saving the output\n",
        "execs_df.to_csv('Key_Executives.csv')\n",
        "execs_df.to_excel('Key_Executives.xlsx')\n",
        "print('Saved the csv file, Please download it from files')"
      ],
      "execution_count": 8,
      "outputs": [
        {
          "output_type": "stream",
          "name": "stdout",
          "text": [
            "Saved the csv file, Please download it from files\n"
          ]
        }
      ]
    },
    {
      "cell_type": "code",
      "metadata": {
        "id": "krFLXIt4TZVx",
        "outputId": "a2cc8ea3-eb40-4f6e-9940-b0a8cb46f57f",
        "colab": {
          "base_uri": "https://localhost:8080/"
        }
      },
      "source": [
        "execs_df = pd.DataFrame(records)\n",
        "execs_df.to_csv('Key_Executives.csv')\n",
        "print('Key_Executives.csv')\n",
        "A= 'CSV File' \n",
        "B= 'SQLite Database'\n",
        "C= input(\"Please select A OR B options from above to store the output :\")\n",
        "if C == 'A':\n",
        "  execs_df = pd.DataFrame(records)\n",
        "  execs_df.to_csv('Key_Executives.csv')\n",
        "  print('Key_Executives')\n",
        "  print(\"Please download CSV from the files\")\n",
        "elif C == 'B':\n",
        "  import sqlite3\n",
        "  conn = sqlite3.connect(\"Key_Executives.db\")\n",
        "  execs_df.to_sql('execs_df',conn)\n",
        "\n",
        "  print(\"Please download database from the files\")"
      ],
      "execution_count": 9,
      "outputs": [
        {
          "output_type": "stream",
          "name": "stdout",
          "text": [
            "Key_Executives.csv\n",
            "Please select A OR B options from above to store the output :B\n",
            "Please download database from the files\n"
          ]
        }
      ]
    },
    {
      "cell_type": "code",
      "metadata": {
        "id": "z_41D7C5XDOC",
        "outputId": "c1e75b59-199b-4a9e-d449-5e1132dc3aba",
        "colab": {
          "base_uri": "https://localhost:8080/",
          "height": 204
        }
      },
      "source": [
        "Name= pd.read_sql('SELECT * FROM execs_df', conn)\n",
        "Name.head()"
      ],
      "execution_count": 10,
      "outputs": [
        {
          "output_type": "execute_result",
          "data": {
            "text/html": [
              "<div>\n",
              "<style scoped>\n",
              "    .dataframe tbody tr th:only-of-type {\n",
              "        vertical-align: middle;\n",
              "    }\n",
              "\n",
              "    .dataframe tbody tr th {\n",
              "        vertical-align: top;\n",
              "    }\n",
              "\n",
              "    .dataframe thead th {\n",
              "        text-align: right;\n",
              "    }\n",
              "</style>\n",
              "<table border=\"1\" class=\"dataframe\">\n",
              "  <thead>\n",
              "    <tr style=\"text-align: right;\">\n",
              "      <th></th>\n",
              "      <th>index</th>\n",
              "      <th>name</th>\n",
              "      <th>title</th>\n",
              "      <th>pay</th>\n",
              "      <th>tax</th>\n",
              "    </tr>\n",
              "  </thead>\n",
              "  <tbody>\n",
              "    <tr>\n",
              "      <th>0</th>\n",
              "      <td>0</td>\n",
              "      <td>Mr. Shayne Cary Elliott B.Com., B.Com</td>\n",
              "      <td>MD, CEO &amp; Exec. Director</td>\n",
              "      <td>3.24M</td>\n",
              "      <td>1428667.0</td>\n",
              "    </tr>\n",
              "    <tr>\n",
              "      <th>1</th>\n",
              "      <td>1</td>\n",
              "      <td>Mr. Mark  Whelan</td>\n",
              "      <td>Group Exec. of Institutional</td>\n",
              "      <td>1.59M</td>\n",
              "      <td>686167.0</td>\n",
              "    </tr>\n",
              "    <tr>\n",
              "      <th>2</th>\n",
              "      <td>2</td>\n",
              "      <td>Mr. Mark  Hand</td>\n",
              "      <td>Group Exec. Australia Retail &amp; Commercial Banking</td>\n",
              "      <td>1.81M</td>\n",
              "      <td>785167.0</td>\n",
              "    </tr>\n",
              "    <tr>\n",
              "      <th>3</th>\n",
              "      <td>3</td>\n",
              "      <td>Ms. Maile Katherine Carnegie</td>\n",
              "      <td>Group Exec. of Digital &amp; Australia Transformation</td>\n",
              "      <td>1.66M</td>\n",
              "      <td>717667.0</td>\n",
              "    </tr>\n",
              "    <tr>\n",
              "      <th>4</th>\n",
              "      <td>4</td>\n",
              "      <td>Mr. Kevin Paul Corbally</td>\n",
              "      <td>Group Chief Risk Officer</td>\n",
              "      <td>1.57M</td>\n",
              "      <td>677167.0</td>\n",
              "    </tr>\n",
              "  </tbody>\n",
              "</table>\n",
              "</div>"
            ],
            "text/plain": [
              "   index                                   name  ...    pay        tax\n",
              "0      0  Mr. Shayne Cary Elliott B.Com., B.Com  ...  3.24M  1428667.0\n",
              "1      1                       Mr. Mark  Whelan  ...  1.59M   686167.0\n",
              "2      2                         Mr. Mark  Hand  ...  1.81M   785167.0\n",
              "3      3           Ms. Maile Katherine Carnegie  ...  1.66M   717667.0\n",
              "4      4                Mr. Kevin Paul Corbally  ...  1.57M   677167.0\n",
              "\n",
              "[5 rows x 5 columns]"
            ]
          },
          "metadata": {},
          "execution_count": 10
        }
      ]
    },
    {
      "cell_type": "code",
      "metadata": {
        "id": "IFRXUc8mQAuM"
      },
      "source": [
        "'''\n",
        "This function is quiet lengthy, I referred to stack overflow for this!\n",
        "# Get URL\n",
        "\n",
        "''' This will help to scrape the table of the stock ticker symbol input \n",
        "by the user and include tax column as well'''\n",
        "\n",
        "url = get_url()\n",
        "wd.get(url)\n",
        "soup = BeautifulSoup(wd.page_source, \"html.parser\")\n",
        "records = get_extract_records(soup)\n",
        "\n",
        "for record in records:\n",
        "  result = get_salary(record)\n",
        "  income_tax = calculate_tax(result)\n",
        "  record['tax'] = income_tax\n",
        "\n",
        "# Create a pandas dataframe \n",
        "\n",
        "execs_df = pd.DataFrame(records)\n",
        "execs_df\n",
        "\n",
        "'''This is to save the output in csv or Sqlite database'''\n",
        "\n",
        "execs_df = pd.DataFrame(records)\n",
        "execs_df.to_csv('Key_Executives.csv')\n",
        "print('Key_Executives.csv')\n",
        "A= 'CSV File' \n",
        "B= 'SQLite Database'\n",
        "C= input(\"Please select A OR B options from above to store the output :\")\n",
        "if C == 'A':\n",
        "  execs_df = pd.DataFrame(records)\n",
        "  execs_df.to_csv('Key_Executives.csv')\n",
        "  print('Key_Executives')\n",
        "  print(\"Please download CSV from the files\")\n",
        "  file = 'Key_Executives.csv'\n",
        "  if(os.path.exists(file) and os.path.isfile(file)):\n",
        "    os.remove(file)\n",
        "  else:\n",
        "    print(\"file not found\")\n",
        "elif C == 'B':\n",
        "  import sqlite3\n",
        "  conn = sqlite3.connect(\"Key_Executives.db\")\n",
        "  cursor = conn.cursor()\n",
        "  query = \"\"\"\n",
        "  CREATE TABLE Executives (\n",
        "            name TEXT,\n",
        "            title TEXT,\n",
        "            Pay INTERGER,\n",
        "            Tax INTERGER\n",
        "        );\"\"\"\n",
        "  execs_df = pd.read_csv('Key_Executives.csv')\n",
        "  execs_df.to_sql('Executives', conn, if_exists='append', index=False)\n",
        "  print(\"Please download database from the files\")\n",
        "  import os\n",
        "  file = 'Key_Executives.csv'\n",
        "  if(os.path.exists(file) and os.path.isfile(file)):\n",
        "    os.remove(file)\n",
        "  else:\n",
        "    print(\"file not found\")\n",
        "else:\n",
        "  print(\"Select Correct Option\")\n",
        "  print(\"Displaying Database without Saving it into any file format\")\n",
        "print('Key_Executives')\n",
        "cursor.execute(\"SELECT * from Executives\")\n",
        "X=cursor.fetchall()\n",
        "dff=pd.DataFrame(X)\n",
        "dff.columns =['SERIAL No.', 'NAME','Title','Pay','Tax']\n",
        "dff.head()\n",
        "'''"
      ],
      "execution_count": null,
      "outputs": []
    },
    {
      "cell_type": "code",
      "metadata": {
        "id": "LESaHsDbQwRU"
      },
      "source": [
        "\n"
      ],
      "execution_count": null,
      "outputs": []
    },
    {
      "cell_type": "code",
      "metadata": {
        "id": "UyYCNiSqQjAC"
      },
      "source": [
        ""
      ],
      "execution_count": null,
      "outputs": []
    },
    {
      "cell_type": "code",
      "metadata": {
        "id": "50hX7lLIEHS5"
      },
      "source": [
        "#Saving the Income tax of Key Executives to SQLite Database using pandas dataframe..\n",
        "import sqlite3\n",
        "conn = sqlite3.connect(\"Key_Executives.db\")\n",
        "execs_df.to_sql('execs_df',conn)"
      ],
      "execution_count": null,
      "outputs": []
    },
    {
      "cell_type": "code",
      "metadata": {
        "id": "MY6Kg74yEuCJ"
      },
      "source": [
        "Name= pd.read_sql('SELECT * FROM execs_df', conn)\n",
        "Name.head()"
      ],
      "execution_count": null,
      "outputs": []
    },
    {
      "cell_type": "code",
      "metadata": {
        "id": "aA2sSQMfLIjs"
      },
      "source": [
        ""
      ],
      "execution_count": null,
      "outputs": []
    }
  ]
}