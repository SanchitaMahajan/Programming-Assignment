{
  "nbformat": 4,
  "nbformat_minor": 0,
  "metadata": {
    "colab": {
      "name": "Assignment.ipynb",
      "provenance": [],
      "authorship_tag": "ABX9TyOo46aguldZDkeR16Y3lofy",
      "include_colab_link": true
    },
    "kernelspec": {
      "name": "python3",
      "display_name": "Python 3"
    },
    "language_info": {
      "name": "python"
    }
  },
  "cells": [
    {
      "cell_type": "markdown",
      "metadata": {
        "id": "view-in-github",
        "colab_type": "text"
      },
      "source": [
        "<a href=\"https://colab.research.google.com/github/SanchitaMahajan/Programming-Assignment/blob/main/Assignment.ipynb\" target=\"_parent\"><img src=\"https://colab.research.google.com/assets/colab-badge.svg\" alt=\"Open In Colab\"/></a>"
      ]
    },
    {
      "cell_type": "markdown",
      "metadata": {
        "id": "QZYcszlx-3Oo"
      },
      "source": [
        "# Assignment ideas\n",
        "\n",
        "The process of problem solving can be broken down into 5 key steps: -\n",
        "\n",
        "1. State the problem clearly\n",
        "\n",
        "2. Describe the input and output information\n",
        "\n",
        "3. Work the problem by hand\n",
        "\n",
        "4. Develop algorithm\n",
        "\n",
        "5. Test solution with a variety of data\n",
        "\n",
        "Program, Inputs, Processing and Outputs\n",
        "\n",
        "# Inputs\n",
        "\n",
        "* Input a ticker symbol\n",
        "\n",
        "**Find out what a ticker symbol is**\n",
        "\n",
        "# Processing thoughts\n",
        "\n",
        "* Scrape the Yahoo finance\n",
        "\n",
        "* Extract the 'Key Executives'\n",
        "\n",
        "* Calculate income tax\n",
        "\n",
        "Here is the webpage: https://au.finance.yahoo.com/\n",
        "\n",
        "\n",
        "\n",
        "# Outputs\n",
        "\n",
        "* Save to CSV files\n",
        "\n",
        "* Save to SQL database\n",
        "\n",
        "\n",
        "# Lets explore the website\n",
        "\n",
        "1. Search for Coles\n",
        "COLES.AX, '.AX' stands for Australian \n",
        "\n",
        "Just read the assignment specification again, it can be any company\n",
        "\n",
        "Found the key executives in the profile page.\n",
        "\n",
        "Here, is the URL for Coles: \n",
        "\n",
        "https://au.finance.yahoo.com/quote/COL.AX/profile?p=COL.AX\n",
        "\n",
        "Here is the URL for NAB:\n",
        "\n",
        "https://au.finance.yahoo.com/quote/NAB.AX/profile?p=NAB.AX\n",
        "\n",
        "There seems to be a pattern with the URL. I can see that the ticker twice in the URL. \n",
        "\n",
        "Manual process is:\n",
        "\n",
        "1. Search for ticker\n",
        "\n",
        "2. Click on profile\n",
        "\n",
        "**To DO Can I add shortcut for process and just use the URL**\n",
        "\n",
        "Looks like there is a way out...\n",
        "\n"
      ]
    },
    {
      "cell_type": "markdown",
      "metadata": {
        "id": "3iweYjOCME7S"
      },
      "source": [
        "# Lets Calculate the Tax manually\n",
        "\n",
        "\n",
        "```\n",
        "\n",
        "Name\tTitle\tPay\tExercised\tYear born\n",
        "Mr. Ross Maxwell McEwan CBE, B.B.S.\tGroup CEO, MD & Director\t2.54M\tN/A\t1957\n",
        "Mr. Gary Andrew Lennon BEC, F.C.A., BEc (Hons), FCA\tGroup Chief Financial Officer\t1.13M\tN/A\tN/A\n",
        "Mr. Patrick F. Wright\tGroup Exec. of Technology & Enterprise Operations\t1.72M\tN/A\t1967\n",
        "Ms. Sharon J. Cook\tGroup Exec. of Legal & Commercial Services\t912.98k\tN/A\tN/A\n",
        "Ms. Susan Ferrier\tGroup Exec. of People & Culture\t929.27k\tN/A\tN/A\n",
        "Ms. Angela Mentis B.Bus\tGroup Chief Digital, Data & Analytics Officer\t1.62M\tN/A\tN/A\n",
        "Mr. Shaun Dooley\tChief Risk Officer\t1.05M\tN/A\tN/A\n",
        "Mr. Andrew Irvine\tChief Exec. of Bus. Private Banking Division\t333.27k\tN/A\tN/A\n",
        "Mr. Lesile D. Matheson\tGroup Chief Operating Officer\tN/A\tN/A\t1960\n",
        "Ms. Sally Mihell\tHead of Investor Relations\tN/A\tN/A\tN/A\n",
        "\n",
        "\n",
        "```\n",
        "\n",
        "Need to calculate income tax.\n",
        "\n",
        "* Need to kmow the pay!\n",
        "\n",
        "The first column is Name\n",
        "\n",
        "The second column is title\n",
        "\n",
        "The third column is their pay\n",
        "\n",
        "** TOdo How to get the last column!**\n",
        "\n",
        "\n",
        "Lets consider one row\n",
        "\n",
        "```\n",
        "\n",
        "Mr. Ross Maxwell McEwan CBE, B.B.S.\tGroup CEO, MD & Director\t2.54M\t\n",
        "\n",
        "```\n",
        "\n",
        "So the third column is pay, and for this row is '2.54M'\n",
        "\n",
        "I will assume 'M' means Million, so pay will be multiplied by 1000000"
      ]
    },
    {
      "cell_type": "code",
      "metadata": {
        "colab": {
          "base_uri": "https://localhost:8080/"
        },
        "id": "hYbTR9caRGCn",
        "outputId": "14868ab1-75ee-4b00-daaf-794ec07b26ae"
      },
      "source": [
        "2.5 * 1000000"
      ],
      "execution_count": 3,
      "outputs": [
        {
          "output_type": "execute_result",
          "data": {
            "text/plain": [
              "2500000.0"
            ]
          },
          "metadata": {},
          "execution_count": 3
        }
      ]
    },
    {
      "cell_type": "markdown",
      "metadata": {
        "id": "iAxaUncgTYun"
      },
      "source": [
        "Inspect for another row:-\n",
        "\n",
        "```\n",
        "Ms. Sharon J. Cook\tGroup Exec. of Legal & Commercial Services\t912.98k\n",
        "```\n",
        "\n",
        "I am going to assume that 'K' means 1000, so their pay is '912.98' * 1000"
      ]
    },
    {
      "cell_type": "code",
      "metadata": {
        "colab": {
          "base_uri": "https://localhost:8080/"
        },
        "id": "qoTrW-xlTxHa",
        "outputId": "bfcaac9f-5c4a-4c01-8d58-5141233b39ff"
      },
      "source": [
        "912.98 * 1000"
      ],
      "execution_count": 2,
      "outputs": [
        {
          "output_type": "execute_result",
          "data": {
            "text/plain": [
              "912980.0"
            ]
          },
          "metadata": {},
          "execution_count": 2
        }
      ]
    },
    {
      "cell_type": "markdown",
      "metadata": {
        "id": "IWIACDomTX5X"
      },
      "source": [
        "Lets calculate income tax. Lets look at income tax notebook. Here is the function from tax notebook:-\n",
        "\n",
        "```\n",
        "def calculate_tax(income):\n",
        "  if income <= 18200:\n",
        "    tax_payable = 0\n",
        "  elif 18200 < income <= 45000:\n",
        "    tax_payable = 0.19 * (income - 18200)\n",
        "  elif 45000 < income < 120000:\n",
        "    tax_payable = 5092 + 0.32 * (income - 45000)\n",
        "  elif 120000 < income < 180000:\n",
        "    tax_payable = 29467 + 0.37 * (income - 120000) \n",
        "  elif 180000 < income:\n",
        "    tax_payable = 51667 + 0.45 * (income - 180000)\n",
        "\n",
        "  return tax_payable\n",
        "  ```\n",
        "\n",
        "I am happy that this will work, I have tested it before..\n",
        "\n",
        "income_tax = calculate_tax(pay)\n",
        "\n",
        "\n"
      ]
    },
    {
      "cell_type": "markdown",
      "metadata": {
        "id": "dro-lUq4Vo-9"
      },
      "source": [
        "# Initial Algorithm\n",
        "\n",
        "1. Use input ticker symbol\n",
        "2. Use ticker to get profile page\n",
        "3. Copy the table\n",
        "4. For each row of the table:-\n",
        " * Process a row to extract pay\n",
        " * Find last character to determine multiplier\n",
        " * Calculate income tax\n",
        "\n",
        " Note: \n",
        "\n",
        " 1. Need to validate the ticker, but for now i assume that user type in a correct ticker.\n",
        " 2. Still need to work with where to save the income tax"
      ]
    },
    {
      "cell_type": "code",
      "metadata": {
        "id": "44dCxe2TXor5",
        "outputId": "2e7b8bf8-2745-444f-8722-e2975ce056fb",
        "colab": {
          "base_uri": "https://localhost:8080/"
        }
      },
      "source": [
        "# User input ticker symbol\n",
        "ticker_symbol = input( \"Please input a ticker symbol \")\n",
        "print(ticker_symbol)"
      ],
      "execution_count": 13,
      "outputs": [
        {
          "output_type": "stream",
          "name": "stdout",
          "text": [
            "Please input a ticker symbol NAB.AX\n",
            "NAB.AX\n"
          ]
        }
      ]
    },
    {
      "cell_type": "code",
      "metadata": {
        "id": "0D2x0LdsW47s",
        "outputId": "587ae723-579a-438e-95e2-614db52fe82c",
        "colab": {
          "base_uri": "https://localhost:8080/",
          "height": 35
        }
      },
      "source": [
        "# Use ticker to get profile page\n",
        "\n",
        "example_url = 'https://au.finance.yahoo.com/quote/{}/profile?p={}'\n",
        "example_url.format(ticker_symbol, ticker_symbol)\n"
      ],
      "execution_count": 15,
      "outputs": [
        {
          "output_type": "execute_result",
          "data": {
            "application/vnd.google.colaboratory.intrinsic+json": {
              "type": "string"
            },
            "text/plain": [
              "'https://au.finance.yahoo.com/quote/NAB.AX/profile?p=NAB.AX'"
            ]
          },
          "metadata": {},
          "execution_count": 15
        }
      ]
    },
    {
      "cell_type": "code",
      "metadata": {
        "id": "dgp6ev-1Yo4w"
      },
      "source": [
        "def get_url():\n",
        "  #User input ticker symbol\n",
        " ticker_symbol = input( \"Please input a ticker symbol \")\n",
        " print(ticker_symbol)\n",
        " example_url = 'https://au.finance.yahoo.com/quote/{}/profile?p={}'\n",
        " result = example_url.format(ticker_symbol, ticker_symbol)\n",
        " return result"
      ],
      "execution_count": 16,
      "outputs": []
    },
    {
      "cell_type": "code",
      "metadata": {
        "id": "yKoI6CtPZEY6",
        "outputId": "16480156-9b12-4cb9-93d4-e11420ba175d",
        "colab": {
          "base_uri": "https://localhost:8080/"
        }
      },
      "source": [
        "url = get_url()\n",
        "print(url)"
      ],
      "execution_count": 17,
      "outputs": [
        {
          "output_type": "stream",
          "name": "stdout",
          "text": [
            "Please input a ticker symbol NAB.AX\n",
            "NAB.AX\n",
            "https://au.finance.yahoo.com/quote/NAB.AX/profile?p=NAB.AX\n"
          ]
        }
      ]
    },
    {
      "cell_type": "markdown",
      "metadata": {
        "id": "vmQ9RekOJeH_"
      },
      "source": [
        "[Resident tax rates 2021–22\n",
        "Taxable income](https://www.ato.gov.au/rates/individual-income-tax-rates/)\n",
        "\n",
        "Income            | Tax on this income \n",
        "------------------|----------------------\n",
        "0 – \\$18,200       | Nil\n",
        "\\$18,201 – \\$45,000 | 19 cents for each \\$1 over \\$18,200\n",
        "\\$45,001 – \\$120,000 | \\$5,092 plus 32.5 cents for each \\$1 over \\$45,000\n",
        "\\$120,001 – \\$180,000 |  \\$29,467 plus 37 cents for each \\$1 over \\$120,000\n",
        "\\$180,001 and over | \\$51,667 plus 45 cents for each \\$1 over \\$180,000"
      ]
    },
    {
      "cell_type": "code",
      "metadata": {
        "id": "MRAp_iE-Wq9w"
      },
      "source": [
        ""
      ],
      "execution_count": null,
      "outputs": []
    }
  ]
}